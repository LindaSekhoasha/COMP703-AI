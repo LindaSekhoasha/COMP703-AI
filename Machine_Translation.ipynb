{
  "nbformat": 4,
  "nbformat_minor": 0,
  "metadata": {
    "colab": {
      "provenance": [],
      "gpuType": "T4"
    },
    "kernelspec": {
      "name": "python3",
      "display_name": "Python 3"
    },
    "language_info": {
      "name": "python"
    },
    "accelerator": "GPU",
  },
  "cells": [
    {
      "cell_type": "markdown",
      "source": [
        "# Machine Translation Project\n",
        "Members\n",
        "* Linda Sekhoasha - 222004139\n",
        "* Wandile Ngobese - 222056013\n",
        "* Khonzinkosi Mkhize - 219005273\n",
        "* Samukelo Mkhize - 220009930"
      ],
      "metadata": {
        "id": "D__YNfprA2Ir"
      }
    },
    {
      "cell_type": "code",
      "execution_count": 1,
      "metadata": {
        "colab": {
          "base_uri": "https://localhost:8080/"
        },
        "id": "-4FeMBqf6HZx",
        "outputId": "d7379cb5-ab0a-4248-f33e-a559e92c11ec"
      },
      "outputs": [
        {
          "output_type": "stream",
          "name": "stdout",
          "text": [
            "Requirement already satisfied: pandas in /usr/local/lib/python3.11/dist-packages (2.2.2)\n",
            "Requirement already satisfied: numpy>=1.23.2 in /usr/local/lib/python3.11/dist-packages (from pandas) (2.0.2)\n",
            "Requirement already satisfied: python-dateutil>=2.8.2 in /usr/local/lib/python3.11/dist-packages (from pandas) (2.9.0.post0)\n",
            "Requirement already satisfied: pytz>=2020.1 in /usr/local/lib/python3.11/dist-packages (from pandas) (2025.2)\n",
            "Requirement already satisfied: tzdata>=2022.7 in /usr/local/lib/python3.11/dist-packages (from pandas) (2025.2)\n",
            "Requirement already satisfied: six>=1.5 in /usr/local/lib/python3.11/dist-packages (from python-dateutil>=2.8.2->pandas) (1.17.0)\n",
            "Collecting evaluate\n",
            "  Downloading evaluate-0.4.3-py3-none-any.whl.metadata (9.2 kB)\n",
            "Requirement already satisfied: datasets>=2.0.0 in /usr/local/lib/python3.11/dist-packages (from evaluate) (2.14.4)\n",
            "Requirement already satisfied: numpy>=1.17 in /usr/local/lib/python3.11/dist-packages (from evaluate) (2.0.2)\n",
            "Requirement already satisfied: dill in /usr/local/lib/python3.11/dist-packages (from evaluate) (0.3.7)\n",
            "Requirement already satisfied: pandas in /usr/local/lib/python3.11/dist-packages (from evaluate) (2.2.2)\n",
            "Requirement already satisfied: requests>=2.19.0 in /usr/local/lib/python3.11/dist-packages (from evaluate) (2.32.3)\n",
            "Requirement already satisfied: tqdm>=4.62.1 in /usr/local/lib/python3.11/dist-packages (from evaluate) (4.67.1)\n",
            "Requirement already satisfied: xxhash in /usr/local/lib/python3.11/dist-packages (from evaluate) (3.5.0)\n",
            "Requirement already satisfied: multiprocess in /usr/local/lib/python3.11/dist-packages (from evaluate) (0.70.15)\n",
            "Requirement already satisfied: fsspec>=2021.05.0 in /usr/local/lib/python3.11/dist-packages (from fsspec[http]>=2021.05.0->evaluate) (2025.3.2)\n",
            "Requirement already satisfied: huggingface-hub>=0.7.0 in /usr/local/lib/python3.11/dist-packages (from evaluate) (0.31.4)\n",
            "Requirement already satisfied: packaging in /usr/local/lib/python3.11/dist-packages (from evaluate) (24.2)\n",
            "Requirement already satisfied: pyarrow>=8.0.0 in /usr/local/lib/python3.11/dist-packages (from datasets>=2.0.0->evaluate) (18.1.0)\n",
            "Requirement already satisfied: aiohttp in /usr/local/lib/python3.11/dist-packages (from datasets>=2.0.0->evaluate) (3.11.15)\n",
            "Requirement already satisfied: pyyaml>=5.1 in /usr/local/lib/python3.11/dist-packages (from datasets>=2.0.0->evaluate) (6.0.2)\n",
            "Requirement already satisfied: filelock in /usr/local/lib/python3.11/dist-packages (from huggingface-hub>=0.7.0->evaluate) (3.18.0)\n",
            "Requirement already satisfied: typing-extensions>=3.7.4.3 in /usr/local/lib/python3.11/dist-packages (from huggingface-hub>=0.7.0->evaluate) (4.13.2)\n",
            "Requirement already satisfied: charset-normalizer<4,>=2 in /usr/local/lib/python3.11/dist-packages (from requests>=2.19.0->evaluate) (3.4.2)\n",
            "Requirement already satisfied: idna<4,>=2.5 in /usr/local/lib/python3.11/dist-packages (from requests>=2.19.0->evaluate) (3.10)\n",
            "Requirement already satisfied: urllib3<3,>=1.21.1 in /usr/local/lib/python3.11/dist-packages (from requests>=2.19.0->evaluate) (2.4.0)\n",
            "Requirement already satisfied: certifi>=2017.4.17 in /usr/local/lib/python3.11/dist-packages (from requests>=2.19.0->evaluate) (2025.4.26)\n",
            "Requirement already satisfied: python-dateutil>=2.8.2 in /usr/local/lib/python3.11/dist-packages (from pandas->evaluate) (2.9.0.post0)\n",
            "Requirement already satisfied: pytz>=2020.1 in /usr/local/lib/python3.11/dist-packages (from pandas->evaluate) (2025.2)\n",
            "Requirement already satisfied: tzdata>=2022.7 in /usr/local/lib/python3.11/dist-packages (from pandas->evaluate) (2025.2)\n",
            "Requirement already satisfied: aiohappyeyeballs>=2.3.0 in /usr/local/lib/python3.11/dist-packages (from aiohttp->datasets>=2.0.0->evaluate) (2.6.1)\n",
            "Requirement already satisfied: aiosignal>=1.1.2 in /usr/local/lib/python3.11/dist-packages (from aiohttp->datasets>=2.0.0->evaluate) (1.3.2)\n",
            "Requirement already satisfied: attrs>=17.3.0 in /usr/local/lib/python3.11/dist-packages (from aiohttp->datasets>=2.0.0->evaluate) (25.3.0)\n",
            "Requirement already satisfied: frozenlist>=1.1.1 in /usr/local/lib/python3.11/dist-packages (from aiohttp->datasets>=2.0.0->evaluate) (1.6.0)\n",
            "Requirement already satisfied: multidict<7.0,>=4.5 in /usr/local/lib/python3.11/dist-packages (from aiohttp->datasets>=2.0.0->evaluate) (6.4.4)\n",
            "Requirement already satisfied: propcache>=0.2.0 in /usr/local/lib/python3.11/dist-packages (from aiohttp->datasets>=2.0.0->evaluate) (0.3.1)\n",
            "Requirement already satisfied: yarl<2.0,>=1.17.0 in /usr/local/lib/python3.11/dist-packages (from aiohttp->datasets>=2.0.0->evaluate) (1.20.0)\n",
            "Requirement already satisfied: six>=1.5 in /usr/local/lib/python3.11/dist-packages (from python-dateutil>=2.8.2->pandas->evaluate) (1.17.0)\n",
            "Downloading evaluate-0.4.3-py3-none-any.whl (84 kB)\n",
            "\u001b[2K   \u001b[90m━━━━━━━━━━━━━━━━━━━━━━━━━━━━━━━━━━━━━━━━\u001b[0m \u001b[32m84.0/84.0 kB\u001b[0m \u001b[31m3.2 MB/s\u001b[0m eta \u001b[36m0:00:00\u001b[0m\n",
            "\u001b[?25hInstalling collected packages: evaluate\n",
            "Successfully installed evaluate-0.4.3\n",
            "Requirement already satisfied: datasets in /usr/local/lib/python3.11/dist-packages (2.14.4)\n",
            "Collecting datasets\n",
            "  Downloading datasets-3.6.0-py3-none-any.whl.metadata (19 kB)\n",
            "Requirement already satisfied: filelock in /usr/local/lib/python3.11/dist-packages (from datasets) (3.18.0)\n",
            "Requirement already satisfied: numpy>=1.17 in /usr/local/lib/python3.11/dist-packages (from datasets) (2.0.2)\n",
            "Requirement already satisfied: pyarrow>=15.0.0 in /usr/local/lib/python3.11/dist-packages (from datasets) (18.1.0)\n",
            "Requirement already satisfied: dill<0.3.9,>=0.3.0 in /usr/local/lib/python3.11/dist-packages (from datasets) (0.3.7)\n",
            "Requirement already satisfied: pandas in /usr/local/lib/python3.11/dist-packages (from datasets) (2.2.2)\n",
            "Requirement already satisfied: requests>=2.32.2 in /usr/local/lib/python3.11/dist-packages (from datasets) (2.32.3)\n",
            "Requirement already satisfied: tqdm>=4.66.3 in /usr/local/lib/python3.11/dist-packages (from datasets) (4.67.1)\n",
            "Requirement already satisfied: xxhash in /usr/local/lib/python3.11/dist-packages (from datasets) (3.5.0)\n",
            "Requirement already satisfied: multiprocess<0.70.17 in /usr/local/lib/python3.11/dist-packages (from datasets) (0.70.15)\n",
            "Collecting fsspec<=2025.3.0,>=2023.1.0 (from fsspec[http]<=2025.3.0,>=2023.1.0->datasets)\n",
            "  Downloading fsspec-2025.3.0-py3-none-any.whl.metadata (11 kB)\n",
            "Requirement already satisfied: huggingface-hub>=0.24.0 in /usr/local/lib/python3.11/dist-packages (from datasets) (0.31.4)\n",
            "Requirement already satisfied: packaging in /usr/local/lib/python3.11/dist-packages (from datasets) (24.2)\n",
            "Requirement already satisfied: pyyaml>=5.1 in /usr/local/lib/python3.11/dist-packages (from datasets) (6.0.2)\n",
            "Requirement already satisfied: aiohttp!=4.0.0a0,!=4.0.0a1 in /usr/local/lib/python3.11/dist-packages (from fsspec[http]<=2025.3.0,>=2023.1.0->datasets) (3.11.15)\n",
            "Requirement already satisfied: typing-extensions>=3.7.4.3 in /usr/local/lib/python3.11/dist-packages (from huggingface-hub>=0.24.0->datasets) (4.13.2)\n",
            "Requirement already satisfied: charset-normalizer<4,>=2 in /usr/local/lib/python3.11/dist-packages (from requests>=2.32.2->datasets) (3.4.2)\n",
            "Requirement already satisfied: idna<4,>=2.5 in /usr/local/lib/python3.11/dist-packages (from requests>=2.32.2->datasets) (3.10)\n",
            "Requirement already satisfied: urllib3<3,>=1.21.1 in /usr/local/lib/python3.11/dist-packages (from requests>=2.32.2->datasets) (2.4.0)\n",
            "Requirement already satisfied: certifi>=2017.4.17 in /usr/local/lib/python3.11/dist-packages (from requests>=2.32.2->datasets) (2025.4.26)\n",
            "Requirement already satisfied: python-dateutil>=2.8.2 in /usr/local/lib/python3.11/dist-packages (from pandas->datasets) (2.9.0.post0)\n",
            "Requirement already satisfied: pytz>=2020.1 in /usr/local/lib/python3.11/dist-packages (from pandas->datasets) (2025.2)\n",
            "Requirement already satisfied: tzdata>=2022.7 in /usr/local/lib/python3.11/dist-packages (from pandas->datasets) (2025.2)\n",
            "Requirement already satisfied: aiohappyeyeballs>=2.3.0 in /usr/local/lib/python3.11/dist-packages (from aiohttp!=4.0.0a0,!=4.0.0a1->fsspec[http]<=2025.3.0,>=2023.1.0->datasets) (2.6.1)\n",
            "Requirement already satisfied: aiosignal>=1.1.2 in /usr/local/lib/python3.11/dist-packages (from aiohttp!=4.0.0a0,!=4.0.0a1->fsspec[http]<=2025.3.0,>=2023.1.0->datasets) (1.3.2)\n",
            "Requirement already satisfied: attrs>=17.3.0 in /usr/local/lib/python3.11/dist-packages (from aiohttp!=4.0.0a0,!=4.0.0a1->fsspec[http]<=2025.3.0,>=2023.1.0->datasets) (25.3.0)\n",
            "Requirement already satisfied: frozenlist>=1.1.1 in /usr/local/lib/python3.11/dist-packages (from aiohttp!=4.0.0a0,!=4.0.0a1->fsspec[http]<=2025.3.0,>=2023.1.0->datasets) (1.6.0)\n",
            "Requirement already satisfied: multidict<7.0,>=4.5 in /usr/local/lib/python3.11/dist-packages (from aiohttp!=4.0.0a0,!=4.0.0a1->fsspec[http]<=2025.3.0,>=2023.1.0->datasets) (6.4.4)\n",
            "Requirement already satisfied: propcache>=0.2.0 in /usr/local/lib/python3.11/dist-packages (from aiohttp!=4.0.0a0,!=4.0.0a1->fsspec[http]<=2025.3.0,>=2023.1.0->datasets) (0.3.1)\n",
            "Requirement already satisfied: yarl<2.0,>=1.17.0 in /usr/local/lib/python3.11/dist-packages (from aiohttp!=4.0.0a0,!=4.0.0a1->fsspec[http]<=2025.3.0,>=2023.1.0->datasets) (1.20.0)\n",
            "Requirement already satisfied: six>=1.5 in /usr/local/lib/python3.11/dist-packages (from python-dateutil>=2.8.2->pandas->datasets) (1.17.0)\n",
            "Downloading datasets-3.6.0-py3-none-any.whl (491 kB)\n",
            "\u001b[2K   \u001b[90m━━━━━━━━━━━━━━━━━━━━━━━━━━━━━━━━━━━━━━━━\u001b[0m \u001b[32m491.5/491.5 kB\u001b[0m \u001b[31m13.2 MB/s\u001b[0m eta \u001b[36m0:00:00\u001b[0m\n",
            "\u001b[?25hDownloading fsspec-2025.3.0-py3-none-any.whl (193 kB)\n",
            "\u001b[2K   \u001b[90m━━━━━━━━━━━━━━━━━━━━━━━━━━━━━━━━━━━━━━━━\u001b[0m \u001b[32m193.6/193.6 kB\u001b[0m \u001b[31m18.1 MB/s\u001b[0m eta \u001b[36m0:00:00\u001b[0m\n",
            "\u001b[?25hInstalling collected packages: fsspec, datasets\n",
            "  Attempting uninstall: fsspec\n",
            "    Found existing installation: fsspec 2025.3.2\n",
            "    Uninstalling fsspec-2025.3.2:\n",
            "      Successfully uninstalled fsspec-2025.3.2\n",
            "  Attempting uninstall: datasets\n",
            "    Found existing installation: datasets 2.14.4\n",
            "    Uninstalling datasets-2.14.4:\n",
            "      Successfully uninstalled datasets-2.14.4\n",
            "\u001b[31mERROR: pip's dependency resolver does not currently take into account all the packages that are installed. This behaviour is the source of the following dependency conflicts.\n",
            "gcsfs 2025.3.2 requires fsspec==2025.3.2, but you have fsspec 2025.3.0 which is incompatible.\n",
            "torch 2.6.0+cu124 requires nvidia-cublas-cu12==12.4.5.8; platform_system == \"Linux\" and platform_machine == \"x86_64\", but you have nvidia-cublas-cu12 12.5.3.2 which is incompatible.\n",
            "torch 2.6.0+cu124 requires nvidia-cuda-cupti-cu12==12.4.127; platform_system == \"Linux\" and platform_machine == \"x86_64\", but you have nvidia-cuda-cupti-cu12 12.5.82 which is incompatible.\n",
            "torch 2.6.0+cu124 requires nvidia-cuda-nvrtc-cu12==12.4.127; platform_system == \"Linux\" and platform_machine == \"x86_64\", but you have nvidia-cuda-nvrtc-cu12 12.5.82 which is incompatible.\n",
            "torch 2.6.0+cu124 requires nvidia-cuda-runtime-cu12==12.4.127; platform_system == \"Linux\" and platform_machine == \"x86_64\", but you have nvidia-cuda-runtime-cu12 12.5.82 which is incompatible.\n",
            "torch 2.6.0+cu124 requires nvidia-cudnn-cu12==9.1.0.70; platform_system == \"Linux\" and platform_machine == \"x86_64\", but you have nvidia-cudnn-cu12 9.3.0.75 which is incompatible.\n",
            "torch 2.6.0+cu124 requires nvidia-cufft-cu12==11.2.1.3; platform_system == \"Linux\" and platform_machine == \"x86_64\", but you have nvidia-cufft-cu12 11.2.3.61 which is incompatible.\n",
            "torch 2.6.0+cu124 requires nvidia-curand-cu12==10.3.5.147; platform_system == \"Linux\" and platform_machine == \"x86_64\", but you have nvidia-curand-cu12 10.3.6.82 which is incompatible.\n",
            "torch 2.6.0+cu124 requires nvidia-cusolver-cu12==11.6.1.9; platform_system == \"Linux\" and platform_machine == \"x86_64\", but you have nvidia-cusolver-cu12 11.6.3.83 which is incompatible.\n",
            "torch 2.6.0+cu124 requires nvidia-cusparse-cu12==12.3.1.170; platform_system == \"Linux\" and platform_machine == \"x86_64\", but you have nvidia-cusparse-cu12 12.5.1.3 which is incompatible.\n",
            "torch 2.6.0+cu124 requires nvidia-nvjitlink-cu12==12.4.127; platform_system == \"Linux\" and platform_machine == \"x86_64\", but you have nvidia-nvjitlink-cu12 12.5.82 which is incompatible.\u001b[0m\u001b[31m\n",
            "\u001b[0mSuccessfully installed datasets-3.6.0 fsspec-2025.3.0\n",
            "Collecting en-core-web-sm==3.8.0\n",
            "  Downloading https://github.com/explosion/spacy-models/releases/download/en_core_web_sm-3.8.0/en_core_web_sm-3.8.0-py3-none-any.whl (12.8 MB)\n",
            "\u001b[2K     \u001b[90m━━━━━━━━━━━━━━━━━━━━━━━━━━━━━━━━━━━━━━━\u001b[0m \u001b[32m12.8/12.8 MB\u001b[0m \u001b[31m119.3 MB/s\u001b[0m eta \u001b[36m0:00:00\u001b[0m\n",
            "\u001b[?25h\u001b[38;5;2m✔ Download and installation successful\u001b[0m\n",
            "You can now load the package via spacy.load('en_core_web_sm')\n",
            "\u001b[38;5;3m⚠ Restart to reload dependencies\u001b[0m\n",
            "If you are in a Jupyter or Colab notebook, you may need to restart Python in\n",
            "order to load all the package's dependencies. You can do this by selecting the\n",
            "'Restart kernel' or 'Restart runtime' option.\n",
            "Found existing installation: torch 2.6.0+cu124\n",
            "Uninstalling torch-2.6.0+cu124:\n",
            "  Successfully uninstalled torch-2.6.0+cu124\n",
            "\u001b[33mWARNING: Skipping torchtext as it is not installed.\u001b[0m\u001b[33m\n",
            "\u001b[0mCollecting torch==2.0.1\n",
            "  Downloading torch-2.0.1-cp311-cp311-manylinux1_x86_64.whl.metadata (24 kB)\n",
            "Collecting torchtext==0.15.2\n",
            "  Downloading torchtext-0.15.2-cp311-cp311-manylinux1_x86_64.whl.metadata (7.4 kB)\n",
            "Requirement already satisfied: filelock in /usr/local/lib/python3.11/dist-packages (from torch==2.0.1) (3.18.0)\n",
            "Requirement already satisfied: typing-extensions in /usr/local/lib/python3.11/dist-packages (from torch==2.0.1) (4.13.2)\n",
            "Requirement already satisfied: sympy in /usr/local/lib/python3.11/dist-packages (from torch==2.0.1) (1.13.1)\n",
            "Requirement already satisfied: networkx in /usr/local/lib/python3.11/dist-packages (from torch==2.0.1) (3.4.2)\n",
            "Requirement already satisfied: jinja2 in /usr/local/lib/python3.11/dist-packages (from torch==2.0.1) (3.1.6)\n",
            "Collecting nvidia-cuda-nvrtc-cu11==11.7.99 (from torch==2.0.1)\n",
            "  Downloading nvidia_cuda_nvrtc_cu11-11.7.99-2-py3-none-manylinux1_x86_64.whl.metadata (1.5 kB)\n",
            "Collecting nvidia-cuda-runtime-cu11==11.7.99 (from torch==2.0.1)\n",
            "  Downloading nvidia_cuda_runtime_cu11-11.7.99-py3-none-manylinux1_x86_64.whl.metadata (1.6 kB)\n",
            "Collecting nvidia-cuda-cupti-cu11==11.7.101 (from torch==2.0.1)\n",
            "  Downloading nvidia_cuda_cupti_cu11-11.7.101-py3-none-manylinux1_x86_64.whl.metadata (1.6 kB)\n",
            "Collecting nvidia-cudnn-cu11==8.5.0.96 (from torch==2.0.1)\n",
            "  Downloading nvidia_cudnn_cu11-8.5.0.96-2-py3-none-manylinux1_x86_64.whl.metadata (1.6 kB)\n",
            "Collecting nvidia-cublas-cu11==11.10.3.66 (from torch==2.0.1)\n",
            "  Downloading nvidia_cublas_cu11-11.10.3.66-py3-none-manylinux1_x86_64.whl.metadata (1.6 kB)\n",
            "Collecting nvidia-cufft-cu11==10.9.0.58 (from torch==2.0.1)\n",
            "  Downloading nvidia_cufft_cu11-10.9.0.58-py3-none-manylinux2014_x86_64.whl.metadata (1.5 kB)\n",
            "Collecting nvidia-curand-cu11==10.2.10.91 (from torch==2.0.1)\n",
            "  Downloading nvidia_curand_cu11-10.2.10.91-py3-none-manylinux1_x86_64.whl.metadata (1.6 kB)\n",
            "Collecting nvidia-cusolver-cu11==11.4.0.1 (from torch==2.0.1)\n",
            "  Downloading nvidia_cusolver_cu11-11.4.0.1-2-py3-none-manylinux1_x86_64.whl.metadata (1.6 kB)\n",
            "Collecting nvidia-cusparse-cu11==11.7.4.91 (from torch==2.0.1)\n",
            "  Downloading nvidia_cusparse_cu11-11.7.4.91-py3-none-manylinux1_x86_64.whl.metadata (1.6 kB)\n",
            "Collecting nvidia-nccl-cu11==2.14.3 (from torch==2.0.1)\n",
            "  Downloading nvidia_nccl_cu11-2.14.3-py3-none-manylinux1_x86_64.whl.metadata (1.8 kB)\n",
            "Collecting nvidia-nvtx-cu11==11.7.91 (from torch==2.0.1)\n",
            "  Downloading nvidia_nvtx_cu11-11.7.91-py3-none-manylinux1_x86_64.whl.metadata (1.7 kB)\n",
            "Collecting triton==2.0.0 (from torch==2.0.1)\n",
            "  Downloading triton-2.0.0-1-cp311-cp311-manylinux2014_x86_64.manylinux_2_17_x86_64.whl.metadata (1.0 kB)\n",
            "Requirement already satisfied: tqdm in /usr/local/lib/python3.11/dist-packages (from torchtext==0.15.2) (4.67.1)\n",
            "Requirement already satisfied: requests in /usr/local/lib/python3.11/dist-packages (from torchtext==0.15.2) (2.32.3)\n",
            "Requirement already satisfied: numpy in /usr/local/lib/python3.11/dist-packages (from torchtext==0.15.2) (2.0.2)\n",
            "Collecting torchdata==0.6.1 (from torchtext==0.15.2)\n",
            "  Downloading torchdata-0.6.1-cp311-cp311-manylinux_2_17_x86_64.manylinux2014_x86_64.whl.metadata (13 kB)\n",
            "Requirement already satisfied: setuptools in /usr/local/lib/python3.11/dist-packages (from nvidia-cublas-cu11==11.10.3.66->torch==2.0.1) (75.2.0)\n",
            "Requirement already satisfied: wheel in /usr/local/lib/python3.11/dist-packages (from nvidia-cublas-cu11==11.10.3.66->torch==2.0.1) (0.45.1)\n",
            "Requirement already satisfied: urllib3>=1.25 in /usr/local/lib/python3.11/dist-packages (from torchdata==0.6.1->torchtext==0.15.2) (2.4.0)\n",
            "Requirement already satisfied: cmake in /usr/local/lib/python3.11/dist-packages (from triton==2.0.0->torch==2.0.1) (3.31.6)\n",
            "Collecting lit (from triton==2.0.0->torch==2.0.1)\n",
            "  Downloading lit-18.1.8-py3-none-any.whl.metadata (2.5 kB)\n",
            "Requirement already satisfied: MarkupSafe>=2.0 in /usr/local/lib/python3.11/dist-packages (from jinja2->torch==2.0.1) (3.0.2)\n",
            "Requirement already satisfied: charset-normalizer<4,>=2 in /usr/local/lib/python3.11/dist-packages (from requests->torchtext==0.15.2) (3.4.2)\n",
            "Requirement already satisfied: idna<4,>=2.5 in /usr/local/lib/python3.11/dist-packages (from requests->torchtext==0.15.2) (3.10)\n",
            "Requirement already satisfied: certifi>=2017.4.17 in /usr/local/lib/python3.11/dist-packages (from requests->torchtext==0.15.2) (2025.4.26)\n",
            "Requirement already satisfied: mpmath<1.4,>=1.1.0 in /usr/local/lib/python3.11/dist-packages (from sympy->torch==2.0.1) (1.3.0)\n",
            "Downloading torch-2.0.1-cp311-cp311-manylinux1_x86_64.whl (619.9 MB)\n",
            "\u001b[2K   \u001b[90m━━━━━━━━━━━━━━━━━━━━━━━━━━━━━━━━━━━━━━━\u001b[0m \u001b[32m619.9/619.9 MB\u001b[0m \u001b[31m871.9 kB/s\u001b[0m eta \u001b[36m0:00:00\u001b[0m\n",
            "\u001b[?25hDownloading torchtext-0.15.2-cp311-cp311-manylinux1_x86_64.whl (2.0 MB)\n",
            "\u001b[2K   \u001b[90m━━━━━━━━━━━━━━━━━━━━━━━━━━━━━━━━━━━━━━━━\u001b[0m \u001b[32m2.0/2.0 MB\u001b[0m \u001b[31m80.5 MB/s\u001b[0m eta \u001b[36m0:00:00\u001b[0m\n",
            "\u001b[?25hDownloading nvidia_cublas_cu11-11.10.3.66-py3-none-manylinux1_x86_64.whl (317.1 MB)\n",
            "\u001b[2K   \u001b[90m━━━━━━━━━━━━━━━━━━━━━━━━━━━━━━━━━━━━━━━━\u001b[0m \u001b[32m317.1/317.1 MB\u001b[0m \u001b[31m4.5 MB/s\u001b[0m eta \u001b[36m0:00:00\u001b[0m\n",
            "\u001b[?25hDownloading nvidia_cuda_cupti_cu11-11.7.101-py3-none-manylinux1_x86_64.whl (11.8 MB)\n",
            "\u001b[2K   \u001b[90m━━━━━━━━━━━━━━━━━━━━━━━━━━━━━━━━━━━━━━━━\u001b[0m \u001b[32m11.8/11.8 MB\u001b[0m \u001b[31m131.3 MB/s\u001b[0m eta \u001b[36m0:00:00\u001b[0m\n",
            "\u001b[?25hDownloading nvidia_cuda_nvrtc_cu11-11.7.99-2-py3-none-manylinux1_x86_64.whl (21.0 MB)\n",
            "\u001b[2K   \u001b[90m━━━━━━━━━━━━━━━━━━━━━━━━━━━━━━━━━━━━━━━━\u001b[0m \u001b[32m21.0/21.0 MB\u001b[0m \u001b[31m105.2 MB/s\u001b[0m eta \u001b[36m0:00:00\u001b[0m\n",
            "\u001b[?25hDownloading nvidia_cuda_runtime_cu11-11.7.99-py3-none-manylinux1_x86_64.whl (849 kB)\n",
            "\u001b[2K   \u001b[90m━━━━━━━━━━━━━━━━━━━━━━━━━━━━━━━━━━━━━━━━\u001b[0m \u001b[32m849.3/849.3 kB\u001b[0m \u001b[31m61.6 MB/s\u001b[0m eta \u001b[36m0:00:00\u001b[0m\n",
            "\u001b[?25hDownloading nvidia_cudnn_cu11-8.5.0.96-2-py3-none-manylinux1_x86_64.whl (557.1 MB)\n",
            "\u001b[2K   \u001b[90m━━━━━━━━━━━━━━━━━━━━━━━━━━━━━━━━━━━━━━━━\u001b[0m \u001b[32m557.1/557.1 MB\u001b[0m \u001b[31m3.0 MB/s\u001b[0m eta \u001b[36m0:00:00\u001b[0m\n",
            "\u001b[?25hDownloading nvidia_cufft_cu11-10.9.0.58-py3-none-manylinux2014_x86_64.whl (168.4 MB)\n",
            "\u001b[2K   \u001b[90m━━━━━━━━━━━━━━━━━━━━━━━━━━━━━━━━━━━━━━━━\u001b[0m \u001b[32m168.4/168.4 MB\u001b[0m \u001b[31m6.5 MB/s\u001b[0m eta \u001b[36m0:00:00\u001b[0m\n",
            "\u001b[?25hDownloading nvidia_curand_cu11-10.2.10.91-py3-none-manylinux1_x86_64.whl (54.6 MB)\n",
            "\u001b[2K   \u001b[90m━━━━━━━━━━━━━━━━━━━━━━━━━━━━━━━━━━━━━━━━\u001b[0m \u001b[32m54.6/54.6 MB\u001b[0m \u001b[31m14.0 MB/s\u001b[0m eta \u001b[36m0:00:00\u001b[0m\n",
            "\u001b[?25hDownloading nvidia_cusolver_cu11-11.4.0.1-2-py3-none-manylinux1_x86_64.whl (102.6 MB)\n",
            "\u001b[2K   \u001b[90m━━━━━━━━━━━━━━━━━━━━━━━━━━━━━━━━━━━━━━━━\u001b[0m \u001b[32m102.6/102.6 MB\u001b[0m \u001b[31m8.5 MB/s\u001b[0m eta \u001b[36m0:00:00\u001b[0m\n",
            "\u001b[?25hDownloading nvidia_cusparse_cu11-11.7.4.91-py3-none-manylinux1_x86_64.whl (173.2 MB)\n",
            "\u001b[2K   \u001b[90m━━━━━━━━━━━━━━━━━━━━━━━━━━━━━━━━━━━━━━━━\u001b[0m \u001b[32m173.2/173.2 MB\u001b[0m \u001b[31m5.8 MB/s\u001b[0m eta \u001b[36m0:00:00\u001b[0m\n",
            "\u001b[?25hDownloading nvidia_nccl_cu11-2.14.3-py3-none-manylinux1_x86_64.whl (177.1 MB)\n",
            "\u001b[2K   \u001b[90m━━━━━━━━━━━━━━━━━━━━━━━━━━━━━━━━━━━━━━━━\u001b[0m \u001b[32m177.1/177.1 MB\u001b[0m \u001b[31m7.0 MB/s\u001b[0m eta \u001b[36m0:00:00\u001b[0m\n",
            "\u001b[?25hDownloading nvidia_nvtx_cu11-11.7.91-py3-none-manylinux1_x86_64.whl (98 kB)\n",
            "\u001b[2K   \u001b[90m━━━━━━━━━━━━━━━━━━━━━━━━━━━━━━━━━━━━━━━━\u001b[0m \u001b[32m98.6/98.6 kB\u001b[0m \u001b[31m9.0 MB/s\u001b[0m eta \u001b[36m0:00:00\u001b[0m\n",
            "\u001b[?25hDownloading torchdata-0.6.1-cp311-cp311-manylinux_2_17_x86_64.manylinux2014_x86_64.whl (4.6 MB)\n",
            "\u001b[2K   \u001b[90m━━━━━━━━━━━━━━━━━━━━━━━━━━━━━━━━━━━━━━━━\u001b[0m \u001b[32m4.6/4.6 MB\u001b[0m \u001b[31m118.0 MB/s\u001b[0m eta \u001b[36m0:00:00\u001b[0m\n",
            "\u001b[?25hDownloading triton-2.0.0-1-cp311-cp311-manylinux2014_x86_64.manylinux_2_17_x86_64.whl (63.3 MB)\n",
            "\u001b[2K   \u001b[90m━━━━━━━━━━━━━━━━━━━━━━━━━━━━━━━━━━━━━━━━\u001b[0m \u001b[32m63.3/63.3 MB\u001b[0m \u001b[31m12.3 MB/s\u001b[0m eta \u001b[36m0:00:00\u001b[0m\n",
            "\u001b[?25hDownloading lit-18.1.8-py3-none-any.whl (96 kB)\n",
            "\u001b[2K   \u001b[90m━━━━━━━━━━━━━━━━━━━━━━━━━━━━━━━━━━━━━━━━\u001b[0m \u001b[32m96.4/96.4 kB\u001b[0m \u001b[31m9.7 MB/s\u001b[0m eta \u001b[36m0:00:00\u001b[0m\n",
            "\u001b[?25hInstalling collected packages: lit, nvidia-nvtx-cu11, nvidia-nccl-cu11, nvidia-cusparse-cu11, nvidia-curand-cu11, nvidia-cufft-cu11, nvidia-cuda-runtime-cu11, nvidia-cuda-nvrtc-cu11, nvidia-cuda-cupti-cu11, nvidia-cublas-cu11, nvidia-cusolver-cu11, nvidia-cudnn-cu11, triton, torch, torchdata, torchtext\n",
            "  Attempting uninstall: triton\n",
            "    Found existing installation: triton 3.2.0\n",
            "    Uninstalling triton-3.2.0:\n",
            "      Successfully uninstalled triton-3.2.0\n",
            "  Attempting uninstall: torchdata\n",
            "    Found existing installation: torchdata 0.11.0\n",
            "    Uninstalling torchdata-0.11.0:\n",
            "      Successfully uninstalled torchdata-0.11.0\n",
            "\u001b[31mERROR: pip's dependency resolver does not currently take into account all the packages that are installed. This behaviour is the source of the following dependency conflicts.\n",
            "torchaudio 2.6.0+cu124 requires torch==2.6.0, but you have torch 2.0.1 which is incompatible.\n",
            "torchvision 0.21.0+cu124 requires torch==2.6.0, but you have torch 2.0.1 which is incompatible.\n",
            "torchtune 0.6.1 requires torchdata==0.11.0, but you have torchdata 0.6.1 which is incompatible.\u001b[0m\u001b[31m\n",
            "\u001b[0mSuccessfully installed lit-18.1.8 nvidia-cublas-cu11-11.10.3.66 nvidia-cuda-cupti-cu11-11.7.101 nvidia-cuda-nvrtc-cu11-11.7.99 nvidia-cuda-runtime-cu11-11.7.99 nvidia-cudnn-cu11-8.5.0.96 nvidia-cufft-cu11-10.9.0.58 nvidia-curand-cu11-10.2.10.91 nvidia-cusolver-cu11-11.4.0.1 nvidia-cusparse-cu11-11.7.4.91 nvidia-nccl-cu11-2.14.3 nvidia-nvtx-cu11-11.7.91 torch-2.0.1 torchdata-0.6.1 torchtext-0.15.2 triton-2.0.0\n"
          ]
        }
      ],
      "source": [
        "!pip install pandas\n",
        "!pip install evaluate\n",
        "!pip install -U datasets\n",
        "!python -m spacy download en_core_web_sm\n",
        "!pip uninstall -y torch torchtext\n",
        "!pip install torch==2.0.1 torchtext==0.15.2"
      ]
    },
    {
      "cell_type": "code",
      "source": [
        "# imports\n",
        "import string\n",
        "import random\n",
        "import torch\n",
        "import torch.nn as nn\n",
        "import torch.optim as optim\n",
        "import tqdm\n",
        "import pandas as pd\n",
        "import numpy as np\n",
        "import matplotlib.pyplot as plt\n",
        "import datasets\n",
        "from datasets import load_dataset\n",
        "import torchtext\n",
        "from torchtext.vocab import Vocab, build_vocab_from_iterator\n",
        "from collections import Counter\n",
        "import evaluate\n",
        "\n",
        "import spacy"
      ],
      "metadata": {
        "colab": {
          "base_uri": "https://localhost:8080/"
        },
        "id": "JqfH573c6XCq",
        "outputId": "33f99afc-b392-440d-c01c-b5562173eff9"
      },
      "execution_count": 2,
      "outputs": [
        {
          "output_type": "stream",
          "name": "stderr",
          "text": [
            "Disabling PyTorch because PyTorch >= 2.1 is required but found 2.0.1\n"
          ]
        }
      ]
    },
    {
      "cell_type": "code",
      "source": [
        "# load the tokenizer (use as zu and en)\n",
        "en_nlp = spacy.load(\"en_core_web_sm\")\n",
        "zu_nlp = en_nlp   # try a zu tokenizer if possible"
      ],
      "metadata": {
        "id": "0zWtEv626liS"
      },
      "execution_count": 3,
      "outputs": []
    },
    {
      "cell_type": "markdown",
      "metadata": {
        "id": "10f755cf-8361-4f02-a559-3890565dd43a"
      },
      "source": [
        "# Data Preparation"
      ]
    },
    {
      "cell_type": "code",
      "source": [
        "# uploaded the csv files on HuggingFace for easy usage of dataset\n",
        "# data src: https://repo.sadilar.org/items/0ed26796-7a67-4935-ba57-d3f10e59ba21\n",
        "dataset = load_dataset(\n",
        "    \"LindaSekhoasha/zu-en_parallel-corpus_xsm\",\n",
        "    data_files=\"zu-en_parallel-corpus-xsm.csv\"\n",
        ")\n",
        "\n",
        "# split into 80% train, 10% validation, 10% test\n",
        "dataset = dataset[\"train\"].train_test_split(test_size=0.2, seed=42)\n",
        "test_valid = dataset[\"test\"].train_test_split(test_size=0.5, seed=42)\n",
        "\n",
        "train_data = dataset[\"train\"]\n",
        "valid_data = test_valid[\"train\"]\n",
        "test_data = test_valid[\"test\"]\n",
        "\n",
        "# show features to work with\n",
        "print(f\"{train_data.features}\\n{valid_data.features}\\n{test_data.features}\")"
      ],
      "metadata": {
        "colab": {
          "base_uri": "https://localhost:8080/",
          "height": 341,
          "referenced_widgets": [
            "ce35d9ba30c84d688661c69bd8147da3",
            "066c26aae93041d69e8a29b558a245d3",
            "7190aafbc51d4779862342ef2b3fb20d",
            "90d19e44324d4e6dbf7cec64d0306cd5",
            "0d83126acc754ff7b397483b02c7817a",
            "e714edbc270e4d8cb91d48eb296445b7",
            "65f3e666634643268f390dc661cf2b3f",
            "e492ff3788ae41a6bddcabf8de4c57af",
            "3c7a4ef4aea145d9a856b364a986fa2c",
            "bf8b2c3775b74c989d97725c2f49f877",
            "b87332d8d92b4652a30ec365412b58e6",
            "5f16e476b88641a8bb8defb44035b14d",
            "82ff1fe5950a4daa88b3de8e097a0ac1",
            "3b0c2bac61f6451a97bbcbb51ef04a15",
            "6881668442f14bc689486650eada6df0",
            "2647ac34b47942e69f4ce1a4f86b50ac",
            "6fb8c81ca63b4928b1462458a5c34201",
            "b968117dc9b44ec3b6a3d36d594622a8",
            "a435f7b449b34414a99fc66f4fb7ea9c",
            "04e957a913d148799631231bc495825f",
            "1ef5b4e9903d418abb3e1910d9148f52",
            "f1c4c97544154044bc37cda9a482bff8"
          ]
        },
        "id": "eZf6GJHr63Fs",
        "outputId": "3e7556a7-aab5-4987-e545-31112a82e96a"
      },
      "execution_count": 4,
      "outputs": [
        {
          "output_type": "stream",
          "name": "stderr",
          "text": [
            "/usr/local/lib/python3.11/dist-packages/huggingface_hub/utils/_auth.py:94: UserWarning: \n",
            "The secret `HF_TOKEN` does not exist in your Colab secrets.\n",
            "To authenticate with the Hugging Face Hub, create a token in your settings tab (https://huggingface.co/settings/tokens), set it as secret in your Google Colab and restart your session.\n",
            "You will be able to reuse this secret in all of your notebooks.\n",
            "Please note that authentication is recommended but still optional to access public models or datasets.\n",
            "  warnings.warn(\n"
          ]
        },
        {
          "output_type": "display_data",
          "data": {
            "text/plain": [
              "zu-en_parallel-corpus-xsm.csv:   0%|          | 0.00/6.87M [00:00<?, ?B/s]"
            ],
            "application/vnd.jupyter.widget-view+json": {
              "version_major": 2,
              "version_minor": 0,
              "model_id": "ce35d9ba30c84d688661c69bd8147da3"
            }
          },
          "metadata": {}
        },
        {
          "output_type": "display_data",
          "data": {
            "text/plain": [
              "Generating train split: 0 examples [00:00, ? examples/s]"
            ],
            "application/vnd.jupyter.widget-view+json": {
              "version_major": 2,
              "version_minor": 0,
              "model_id": "5f16e476b88641a8bb8defb44035b14d"
            }
          },
          "metadata": {}
        },
        {
          "output_type": "stream",
          "name": "stdout",
          "text": [
            "{'zu': Value(dtype='string', id=None), 'en': Value(dtype='string', id=None)}\n",
            "{'zu': Value(dtype='string', id=None), 'en': Value(dtype='string', id=None)}\n",
            "{'zu': Value(dtype='string', id=None), 'en': Value(dtype='string', id=None)}\n"
          ]
        }
      ]
    },
    {
      "cell_type": "code",
      "source": [
        "def tokenize_example(example, en_nlp, zu_nlp, max_length, lower, sos_token, eos_token):\n",
        "    en_tokens = [token.text for token in en_nlp.tokenizer(example[\"en\"])][:max_length]\n",
        "    zu_tokens = [token.text for token in zu_nlp.tokenizer(example[\"zu\"])][:max_length]\n",
        "    if lower:\n",
        "        en_tokens = [token.lower() for token in en_tokens]\n",
        "        zu_tokens = [token.lower() for token in zu_tokens]\n",
        "    en_tokens = [sos_token] + en_tokens + [eos_token]\n",
        "    zu_tokens = [sos_token] + zu_tokens + [eos_token]\n",
        "    return {\"en_tokens\": en_tokens, \"zu_tokens\": zu_tokens}"
      ],
      "metadata": {
        "id": "Sux4dyqp6xRZ"
      },
      "execution_count": 5,
      "outputs": []
    },
    {
      "cell_type": "code",
      "source": [
        "max_length = 1_000\n",
        "lower = True\n",
        "sos_token = \"<sos>\"\n",
        "eos_token = \"<eos>\"\n",
        "\n",
        "fn_kwargs = {\n",
        "    \"en_nlp\": en_nlp,\n",
        "    \"zu_nlp\": zu_nlp,\n",
        "    \"max_length\": max_length,\n",
        "    \"lower\": lower,\n",
        "    \"sos_token\": sos_token,\n",
        "    \"eos_token\": eos_token,\n",
        "}\n",
        "\n",
        "train_data = train_data.map(tokenize_example, fn_kwargs=fn_kwargs)\n",
        "valid_data = valid_data.map(tokenize_example, fn_kwargs=fn_kwargs)\n",
        "test_data = test_data.map(tokenize_example, fn_kwargs=fn_kwargs)"
      ],
      "metadata": {
        "colab": {
          "base_uri": "https://localhost:8080/",
          "height": 217,
          "referenced_widgets": [
            "90c5448be7d54491acdc629a7f760209",
            "b4346e44e69c4585b158f528141ec6ba",
            "2d72baaafeae48e89d46b3eebca223cc",
            "ffe7db8a5e694f0da186b8e7a5e33d6c",
            "5b195d7477384af0b05a71b2f4fc2c58",
            "a7c1ac61d954416bb384b042f7e57190",
            "4edc9cef3ca84b3b94b8bbecfee484ef",
            "8ef179684f644cf2b21c10f19fe2f3a4",
            "d9417b36ad7841b9ad87d4d3cf1c7aa2",
            "b4b79794519a4b269c1ddc276ce0d05d",
            "c0df2be123704ec0b21ef7d9bb009866",
            "e88365441bc34693a1c66a59b94f5d0a",
            "d5f7150402884977a84dc1b9de7dc7b0",
            "f8de98758ae04103b86e0eb67bf6ef18",
            "ac7fe907866149258b4260317cf1d473",
            "39ac02b03f05475ca72df34a82f54945",
            "123dbdcbb73a4a6b8ff65d7685446e0d",
            "6ba4a71ab3b744809a5f2c3cb063c86a",
            "6741b4e9ab65404da8f9c33ce650a375",
            "dd5fad7533884f82b68f2dd3569496fc",
            "d754f9dc1100480585db5d2c29c565fd",
            "1d083ee6ae4a4721b0601bd979d40c2f",
            "a33c3cd1c6ec4409a4f8d53f38fa0ee7",
            "ead16970e75742f1a275305af2395a83",
            "020c76480c7041ad965113e8fb04ebc5",
            "fa76d464567d4ac586fcd18fd30511ba",
            "b28560f898444cfb9273f88f553b777c",
            "995ca19e79eb4a87bcfe561a8a59d88a",
            "7c8d1c4c73c14b0d97f9d71f5b947837",
            "6101920750084b929247a563495a7395",
            "557b9ad63bf74baa83b630901089a92f",
            "bdf2fe41cbbb4ff4b88de465f20e9449",
            "7329bf70e479492ba90b0498403ac269"
          ]
        },
        "id": "APBVxVqK9o2J",
        "outputId": "c60c8064-c6d0-4ccb-d10f-c61a04e2622e"
      },
      "execution_count": 6,
      "outputs": [
        {
          "output_type": "display_data",
          "data": {
            "text/plain": [
              "Map:   0%|          | 0/24000 [00:00<?, ? examples/s]"
            ],
            "application/vnd.jupyter.widget-view+json": {
              "version_major": 2,
              "version_minor": 0,
              "model_id": "90c5448be7d54491acdc629a7f760209"
            }
          },
          "metadata": {}
        },
        {
          "output_type": "display_data",
          "data": {
            "text/plain": [
              "Map:   0%|          | 0/3000 [00:00<?, ? examples/s]"
            ],
            "application/vnd.jupyter.widget-view+json": {
              "version_major": 2,
              "version_minor": 0,
              "model_id": "e88365441bc34693a1c66a59b94f5d0a"
            }
          },
          "metadata": {}
        },
        {
          "output_type": "display_data",
          "data": {
            "text/plain": [
              "Map:   0%|          | 0/3000 [00:00<?, ? examples/s]"
            ],
            "application/vnd.jupyter.widget-view+json": {
              "version_major": 2,
              "version_minor": 0,
              "model_id": "a33c3cd1c6ec4409a4f8d53f38fa0ee7"
            }
          },
          "metadata": {}
        }
      ]
    },
    {
      "cell_type": "code",
      "source": [
        "train_data[0]"
      ],
      "metadata": {
        "colab": {
          "base_uri": "https://localhost:8080/"
        },
        "id": "OOA4ooqZ95aI",
        "outputId": "c061a1b1-64d0-4620-f5c0-cba9665eec84"
      },
      "execution_count": 7,
      "outputs": [
        {
          "output_type": "execute_result",
          "data": {
            "text/plain": [
              "{'zu': 'Lubukeka seluyinto efile lolu thando lwenu .',\n",
              " 'en': \"It doesn't sound like there's much love left in this relationship .\",\n",
              " 'en_tokens': ['<sos>',\n",
              "  'it',\n",
              "  'does',\n",
              "  \"n't\",\n",
              "  'sound',\n",
              "  'like',\n",
              "  'there',\n",
              "  \"'s\",\n",
              "  'much',\n",
              "  'love',\n",
              "  'left',\n",
              "  'in',\n",
              "  'this',\n",
              "  'relationship',\n",
              "  '.',\n",
              "  '<eos>'],\n",
              " 'zu_tokens': ['<sos>',\n",
              "  'lubukeka',\n",
              "  'seluyinto',\n",
              "  'efile',\n",
              "  'lolu',\n",
              "  'thando',\n",
              "  'lwenu',\n",
              "  '.',\n",
              "  '<eos>']}"
            ]
          },
          "metadata": {},
          "execution_count": 7
        }
      ]
    },
    {
      "cell_type": "code",
      "source": [
        "min_freq = 2\n",
        "unk_token = \"<unk>\"\n",
        "pad_token = \"<pad>\"\n",
        "\n",
        "special_tokens = [\n",
        "    unk_token,\n",
        "    pad_token,\n",
        "]\n",
        "\n",
        "en_vocab = torchtext.vocab.build_vocab_from_iterator(\n",
        "    train_data[\"en_tokens\"],\n",
        "    min_freq=min_freq,\n",
        "    specials=special_tokens,\n",
        ")\n",
        "\n",
        "zu_vocab = torchtext.vocab.build_vocab_from_iterator(\n",
        "    train_data[\"zu_tokens\"],\n",
        "    min_freq=min_freq,\n",
        "    specials=special_tokens,\n",
        ")"
      ],
      "metadata": {
        "id": "tK3vTe4N99kf"
      },
      "execution_count": 8,
      "outputs": []
    },
    {
      "cell_type": "code",
      "source": [
        "assert en_vocab[unk_token] == zu_vocab[unk_token]\n",
        "assert en_vocab[pad_token] == zu_vocab[pad_token]\n",
        "\n",
        "unk_index = en_vocab[unk_token]\n",
        "pad_index = en_vocab[pad_token]"
      ],
      "metadata": {
        "id": "yixud8LI-hPX"
      },
      "execution_count": 9,
      "outputs": []
    },
    {
      "cell_type": "code",
      "source": [
        "# set the default index for unknown tokens (important!)\n",
        "en_vocab.set_default_index(unk_index)\n",
        "zu_vocab.set_default_index(unk_index)"
      ],
      "metadata": {
        "id": "JqpMEYTO-nZg"
      },
      "execution_count": 10,
      "outputs": []
    },
    {
      "cell_type": "code",
      "source": [
        "# function to convert tokens in vocab to indices\n",
        "def numericalize_example(example, en_vocab, zu_vocab):\n",
        "    en_ids = en_vocab.lookup_indices(example[\"en_tokens\"])\n",
        "    zu_ids = zu_vocab.lookup_indices(example[\"zu_tokens\"])\n",
        "    return {\"en_ids\": en_ids, \"zu_ids\": zu_ids}"
      ],
      "metadata": {
        "id": "wyFd8Aq6-1Fw"
      },
      "execution_count": 11,
      "outputs": []
    },
    {
      "cell_type": "code",
      "source": [
        "fn_kwargs = {\"en_vocab\": en_vocab, \"zu_vocab\": zu_vocab}\n",
        "\n",
        "train_data = train_data.map(numericalize_example, fn_kwargs=fn_kwargs)\n",
        "valid_data = valid_data.map(numericalize_example, fn_kwargs=fn_kwargs)\n",
        "test_data = test_data.map(numericalize_example, fn_kwargs=fn_kwargs)"
      ],
      "metadata": {
        "colab": {
          "base_uri": "https://localhost:8080/",
          "height": 217,
          "referenced_widgets": [
            "6fc6911d81e0472b95f03afbf9dfd810",
            "4934193b9fd44fecb640ad00a355348b",
            "d56938aefca54f4b82d8f8ff4fca8358",
            "7923b2f35b6c47168e98e1b28f5c711f",
            "4dd25c33097b4ad2b13de2edc77f152e",
            "7f5162bcbddb4412906cc09f37bd5bf6",
            "e25d2616bbd2470b8847a96e61b8f2c6",
            "02ab07b9a29c48cfad142f83f8d622eb",
            "5bedb88119a54145b4d459cfd33528fe",
            "5d370b71050f492c86c473ef76ec89f4",
            "03bc0dde33334b4595cf1791a514ab6b",
            "8bc7c4f3e94846f6a7aaf4ac75b54fd3",
            "7533ced59b03484599d6b660e0877061",
            "2b4ca8ebdef8469c9031543aed734bb5",
            "86c63164717c4511a412dbbedd48befb",
            "0686ecd10b154fe59a9d1b6b7c336480",
            "efc1aa26ca774dcc9bb21db7b29aa537",
            "a974a7e2772340099adef8bdbddb06a6",
            "b3ae1fdfed804be194b216ce6fce3cd5",
            "7e47ce8dbd904804b2e40b2a418ef2e9",
            "14fea12eb76045578db7d3f1b390e85e",
            "120b845a456144fbbc3a036ef66b7e30",
            "d7786bb5fba34ed78c1221477a47b6d1",
            "ffd343f2195d459db7fef1e3fbd12cce",
            "3c6fbf6cbd5846e6af0982d91011f84c",
            "0266342a02ec4fddbf1b58c9520a3be5",
            "aacd0a8fe7cf48e9ab1ae56604551205",
            "bafa973ba68b48d7b1f6110ec1cfe272",
            "06ec71e8cf314162a97923778d06cbc7",
            "a856a131e1c14c98ae157b4dd0eec81b",
            "42f9d083626f4b2cb466c13d72b19028",
            "c06443cfb62e4b03953efcce0c728f8c",
            "915ab86e6b674145ac46ad8eb0bd6fdf"
          ]
        },
        "id": "ZQms7KOH_RyH",
        "outputId": "fc55dbed-3702-479d-e880-ef22269f525a"
      },
      "execution_count": 12,
      "outputs": [
        {
          "output_type": "display_data",
          "data": {
            "text/plain": [
              "Map:   0%|          | 0/24000 [00:00<?, ? examples/s]"
            ],
            "application/vnd.jupyter.widget-view+json": {
              "version_major": 2,
              "version_minor": 0,
              "model_id": "6fc6911d81e0472b95f03afbf9dfd810"
            }
          },
          "metadata": {}
        },
        {
          "output_type": "display_data",
          "data": {
            "text/plain": [
              "Map:   0%|          | 0/3000 [00:00<?, ? examples/s]"
            ],
            "application/vnd.jupyter.widget-view+json": {
              "version_major": 2,
              "version_minor": 0,
              "model_id": "8bc7c4f3e94846f6a7aaf4ac75b54fd3"
            }
          },
          "metadata": {}
        },
        {
          "output_type": "display_data",
          "data": {
            "text/plain": [
              "Map:   0%|          | 0/3000 [00:00<?, ? examples/s]"
            ],
            "application/vnd.jupyter.widget-view+json": {
              "version_major": 2,
              "version_minor": 0,
              "model_id": "d7786bb5fba34ed78c1221477a47b6d1"
            }
          },
          "metadata": {}
        }
      ]
    },
    {
      "cell_type": "code",
      "source": [
        "# display the new features in an example (zu_ids and en_ids)\n",
        "train_data[0]"
      ],
      "metadata": {
        "colab": {
          "base_uri": "https://localhost:8080/"
        },
        "id": "9hp5Tg_T_azv",
        "outputId": "74f5c00c-04e8-45b9-f68c-053d6c9170f8"
      },
      "execution_count": 13,
      "outputs": [
        {
          "output_type": "execute_result",
          "data": {
            "text/plain": [
              "{'zu': 'Lubukeka seluyinto efile lolu thando lwenu .',\n",
              " 'en': \"It doesn't sound like there's much love left in this relationship .\",\n",
              " 'en_tokens': ['<sos>',\n",
              "  'it',\n",
              "  'does',\n",
              "  \"n't\",\n",
              "  'sound',\n",
              "  'like',\n",
              "  'there',\n",
              "  \"'s\",\n",
              "  'much',\n",
              "  'love',\n",
              "  'left',\n",
              "  'in',\n",
              "  'this',\n",
              "  'relationship',\n",
              "  '.',\n",
              "  '<eos>'],\n",
              " 'zu_tokens': ['<sos>',\n",
              "  'lubukeka',\n",
              "  'seluyinto',\n",
              "  'efile',\n",
              "  'lolu',\n",
              "  'thando',\n",
              "  'lwenu',\n",
              "  '.',\n",
              "  '<eos>'],\n",
              " 'en_ids': [4,\n",
              "  25,\n",
              "  244,\n",
              "  100,\n",
              "  1192,\n",
              "  131,\n",
              "  67,\n",
              "  33,\n",
              "  228,\n",
              "  521,\n",
              "  422,\n",
              "  11,\n",
              "  26,\n",
              "  998,\n",
              "  5,\n",
              "  3],\n",
              " 'zu_ids': [3, 0, 22231, 17112, 77, 5498, 8299, 4, 2]}"
            ]
          },
          "metadata": {},
          "execution_count": 13
        }
      ]
    },
    {
      "cell_type": "code",
      "source": [
        "# convert indices to PyTorch tensors for use with PyTorch\n",
        "data_type = \"torch\"\n",
        "format_columns = [\"en_ids\", \"zu_ids\"]\n",
        "\n",
        "train_data = train_data.with_format(\n",
        "    type=data_type, columns=format_columns, output_all_columns=True\n",
        ")\n",
        "\n",
        "valid_data = valid_data.with_format(\n",
        "    type=data_type,\n",
        "    columns=format_columns,\n",
        "    output_all_columns=True,\n",
        ")\n",
        "\n",
        "test_data = test_data.with_format(\n",
        "    type=data_type,\n",
        "    columns=format_columns,\n",
        "    output_all_columns=True,\n",
        ")\n",
        "\n",
        "# show new type of indices\n",
        "type(train_data[0][\"en_ids\"])"
      ],
      "metadata": {
        "colab": {
          "base_uri": "https://localhost:8080/"
        },
        "id": "FgbU7vlw_e4k",
        "outputId": "f24f3370-cde9-46c2-ad48-3090b8565bae"
      },
      "execution_count": 14,
      "outputs": [
        {
          "output_type": "stream",
          "name": "stderr",
          "text": [
            "\n",
            "A module that was compiled using NumPy 1.x cannot be run in\n",
            "NumPy 2.0.2 as it may crash. To support both 1.x and 2.x\n",
            "versions of NumPy, modules must be compiled with NumPy 2.0.\n",
            "Some module may need to rebuild instead e.g. with 'pybind11>=2.12'.\n",
            "\n",
            "If you are a user of the module, the easiest solution will be to\n",
            "downgrade to 'numpy<2' or try to upgrade the affected module.\n",
            "We expect that some modules will need time to support NumPy 2.\n",
            "\n",
            "Traceback (most recent call last):  File \"<frozen runpy>\", line 198, in _run_module_as_main\n",
            "  File \"<frozen runpy>\", line 88, in _run_code\n",
            "  File \"/usr/local/lib/python3.11/dist-packages/colab_kernel_launcher.py\", line 37, in <module>\n",
            "    ColabKernelApp.launch_instance()\n",
            "  File \"/usr/local/lib/python3.11/dist-packages/traitlets/config/application.py\", line 992, in launch_instance\n",
            "    app.start()\n",
            "  File \"/usr/local/lib/python3.11/dist-packages/ipykernel/kernelapp.py\", line 712, in start\n",
            "    self.io_loop.start()\n",
            "  File \"/usr/local/lib/python3.11/dist-packages/tornado/platform/asyncio.py\", line 205, in start\n",
            "    self.asyncio_loop.run_forever()\n",
            "  File \"/usr/lib/python3.11/asyncio/base_events.py\", line 608, in run_forever\n",
            "    self._run_once()\n",
            "  File \"/usr/lib/python3.11/asyncio/base_events.py\", line 1936, in _run_once\n",
            "    handle._run()\n",
            "  File \"/usr/lib/python3.11/asyncio/events.py\", line 84, in _run\n",
            "    self._context.run(self._callback, *self._args)\n",
            "  File \"/usr/local/lib/python3.11/dist-packages/ipykernel/kernelbase.py\", line 510, in dispatch_queue\n",
            "    await self.process_one()\n",
            "  File \"/usr/local/lib/python3.11/dist-packages/ipykernel/kernelbase.py\", line 499, in process_one\n",
            "    await dispatch(*args)\n",
            "  File \"/usr/local/lib/python3.11/dist-packages/ipykernel/kernelbase.py\", line 406, in dispatch_shell\n",
            "    await result\n",
            "  File \"/usr/local/lib/python3.11/dist-packages/ipykernel/kernelbase.py\", line 730, in execute_request\n",
            "    reply_content = await reply_content\n",
            "  File \"/usr/local/lib/python3.11/dist-packages/ipykernel/ipkernel.py\", line 383, in do_execute\n",
            "    res = shell.run_cell(\n",
            "  File \"/usr/local/lib/python3.11/dist-packages/ipykernel/zmqshell.py\", line 528, in run_cell\n",
            "    return super().run_cell(*args, **kwargs)\n",
            "  File \"/usr/local/lib/python3.11/dist-packages/IPython/core/interactiveshell.py\", line 2975, in run_cell\n",
            "    result = self._run_cell(\n",
            "  File \"/usr/local/lib/python3.11/dist-packages/IPython/core/interactiveshell.py\", line 3030, in _run_cell\n",
            "    return runner(coro)\n",
            "  File \"/usr/local/lib/python3.11/dist-packages/IPython/core/async_helpers.py\", line 78, in _pseudo_sync_runner\n",
            "    coro.send(None)\n",
            "  File \"/usr/local/lib/python3.11/dist-packages/IPython/core/interactiveshell.py\", line 3257, in run_cell_async\n",
            "    has_raised = await self.run_ast_nodes(code_ast.body, cell_name,\n",
            "  File \"/usr/local/lib/python3.11/dist-packages/IPython/core/interactiveshell.py\", line 3473, in run_ast_nodes\n",
            "    if (await self.run_code(code, result,  async_=asy)):\n",
            "  File \"/usr/local/lib/python3.11/dist-packages/IPython/core/interactiveshell.py\", line 3553, in run_code\n",
            "    exec(code_obj, self.user_global_ns, self.user_ns)\n",
            "  File \"<ipython-input-14-baf46dc08571>\", line 22, in <cell line: 0>\n",
            "    type(train_data[0][\"en_ids\"])\n",
            "  File \"/usr/local/lib/python3.11/dist-packages/datasets/arrow_dataset.py\", line 2777, in __getitem__\n",
            "    return self._getitem(key)\n",
            "  File \"/usr/local/lib/python3.11/dist-packages/datasets/arrow_dataset.py\", line 2762, in _getitem\n",
            "    formatted_output = format_table(\n",
            "  File \"/usr/local/lib/python3.11/dist-packages/datasets/formatting/formatting.py\", line 661, in format_table\n",
            "    formatted_output = formatter(pa_table_to_format, query_type=query_type)\n",
            "  File \"/usr/local/lib/python3.11/dist-packages/datasets/formatting/formatting.py\", line 406, in __call__\n",
            "    return self.format_row(pa_table)\n",
            "  File \"/usr/local/lib/python3.11/dist-packages/datasets/formatting/torch_formatter.py\", line 107, in format_row\n",
            "    return self.recursive_tensorize(row)\n",
            "  File \"/usr/local/lib/python3.11/dist-packages/datasets/formatting/torch_formatter.py\", line 102, in recursive_tensorize\n",
            "    return map_nested(self._recursive_tensorize, data_struct, map_list=False)\n",
            "  File \"/usr/local/lib/python3.11/dist-packages/datasets/utils/py_utils.py\", line 521, in map_nested\n",
            "    mapped = [\n",
            "  File \"/usr/local/lib/python3.11/dist-packages/datasets/utils/py_utils.py\", line 522, in <listcomp>\n",
            "    _single_map_nested((function, obj, batched, batch_size, types, None, True, None))\n",
            "  File \"/usr/local/lib/python3.11/dist-packages/datasets/utils/py_utils.py\", line 383, in _single_map_nested\n",
            "    return function(data_struct)\n",
            "  File \"/usr/local/lib/python3.11/dist-packages/datasets/formatting/torch_formatter.py\", line 99, in _recursive_tensorize\n",
            "    return self._tensorize(data_struct)\n",
            "  File \"/usr/local/lib/python3.11/dist-packages/datasets/formatting/torch_formatter.py\", line 85, in _tensorize\n",
            "    return torch.tensor(value, **{**default_dtype, **self.torch_tensor_kwargs})\n",
            "/usr/local/lib/python3.11/dist-packages/datasets/formatting/torch_formatter.py:85: UserWarning: Failed to initialize NumPy: _ARRAY_API not found (Triggered internally at ../torch/csrc/utils/tensor_numpy.cpp:84.)\n",
            "  return torch.tensor(value, **{**default_dtype, **self.torch_tensor_kwargs})\n"
          ]
        },
        {
          "output_type": "execute_result",
          "data": {
            "text/plain": [
              "torch.Tensor"
            ]
          },
          "metadata": {},
          "execution_count": 14
        }
      ]
    },
    {
      "cell_type": "code",
      "source": [
        "# function for padding our examples and getting 'batches'\n",
        "# batches - set of examples\n",
        "def get_collate_fn(pad_index):\n",
        "    def collate_fn(batch):\n",
        "        batch_en_ids = [example[\"en_ids\"] for example in batch]\n",
        "        batch_zu_ids = [example[\"zu_ids\"] for example in batch]\n",
        "        batch_en_ids = nn.utils.rnn.pad_sequence(batch_en_ids, padding_value=pad_index)\n",
        "        batch_zu_ids = nn.utils.rnn.pad_sequence(batch_zu_ids, padding_value=pad_index)\n",
        "        batch = {\n",
        "            \"en_ids\": batch_en_ids,\n",
        "            \"zu_ids\": batch_zu_ids,\n",
        "        }\n",
        "        return batch\n",
        "\n",
        "    return collate_fn"
      ],
      "metadata": {
        "id": "S9ARkv9__sI9"
      },
      "execution_count": 15,
      "outputs": []
    },
    {
      "cell_type": "code",
      "source": [
        "def get_data_loader(dataset, batch_size, pad_index, shuffle=False):\n",
        "    collate_fn = get_collate_fn(pad_index)\n",
        "    data_loader = torch.utils.data.DataLoader(\n",
        "        dataset=dataset,\n",
        "        batch_size=batch_size,\n",
        "        collate_fn=collate_fn,\n",
        "        shuffle=shuffle,\n",
        "    )\n",
        "    return data_loader"
      ],
      "metadata": {
        "id": "NeTOGFvVATop"
      },
      "execution_count": 16,
      "outputs": []
    },
    {
      "cell_type": "code",
      "source": [
        "# create data loaders\n",
        "# note: larger batch size needs more GPU power but trains faster\n",
        "batch_size = 64\n",
        "\n",
        "train_data_loader = get_data_loader(train_data, batch_size, pad_index, shuffle=True)\n",
        "valid_data_loader = get_data_loader(valid_data, batch_size, pad_index)\n",
        "test_data_loader = get_data_loader(test_data, batch_size, pad_index)"
      ],
      "metadata": {
        "id": "vSFP7CBuAXYX"
      },
      "execution_count": 17,
      "outputs": []
    },
    {
      "cell_type": "markdown",
      "source": [
        "# Model"
      ],
      "metadata": {
        "id": "4OXTZRCBAiq9"
      }
    },
    {
      "cell_type": "markdown",
      "metadata": {
        "id": "4e93e417-931e-4719-9937-a3d4be58b6e7"
      },
      "source": [
        "## Encoder"
      ]
    },
    {
      "cell_type": "code",
      "execution_count": 18,
      "metadata": {
        "id": "98915382-644f-4dd1-933a-eb4d65a7dde3"
      },
      "outputs": [],
      "source": [
        "class Encoder(nn.Module):\n",
        "    def __init__(self, input_dim, embedding_dim, hidden_dim, n_layers, dropout):\n",
        "        super().__init__()\n",
        "        self.hidden_dim = hidden_dim\n",
        "        self.n_layers = n_layers\n",
        "        self.embedding = nn.Embedding(input_dim, embedding_dim)\n",
        "        self.rnn = nn.LSTM(embedding_dim, hidden_dim, n_layers, dropout=dropout)\n",
        "        self.dropout = nn.Dropout(dropout)\n",
        "\n",
        "    def forward(self, src):\n",
        "        # src = [src length, batch size]\n",
        "        embedded = self.dropout(self.embedding(src))\n",
        "        # embedded = [src length, batch size, embedding dim]\n",
        "        outputs, (hidden, cell) = self.rnn(embedded)\n",
        "        # outputs = [src length, batch size, hidden dim * n directions]\n",
        "        # hidden = [n layers * n directions, batch size, hidden dim]\n",
        "        # cell = [n layers * n directions, batch size, hidden dim]\n",
        "        # outputs are always from the top hidden layer\n",
        "        return hidden, cell"
      ]
    },
    {
      "cell_type": "markdown",
      "metadata": {
        "id": "a5891167-c349-45bd-ba70-d276a38771b5"
      },
      "source": [
        "## Decoder"
      ]
    },
    {
      "cell_type": "code",
      "source": [
        "class Decoder(nn.Module):\n",
        "    def __init__(self, output_dim, embedding_dim, hidden_dim, n_layers, dropout):\n",
        "        super().__init__()\n",
        "        self.output_dim = output_dim\n",
        "        self.hidden_dim = hidden_dim\n",
        "        self.n_layers = n_layers\n",
        "        self.embedding = nn.Embedding(output_dim, embedding_dim)\n",
        "        self.rnn = nn.LSTM(embedding_dim, hidden_dim, n_layers, dropout=dropout)\n",
        "        self.fc_out = nn.Linear(hidden_dim, output_dim)\n",
        "        self.dropout = nn.Dropout(dropout)\n",
        "\n",
        "    def forward(self, input, hidden, cell):\n",
        "        # input = [batch size]\n",
        "        # hidden = [n layers * n directions, batch size, hidden dim]\n",
        "        # cell = [n layers * n directions, batch size, hidden dim]\n",
        "        # n directions in the decoder will both always be 1, therefore:\n",
        "        # hidden = [n layers, batch size, hidden dim]\n",
        "        # context = [n layers, batch size, hidden dim]\n",
        "        input = input.unsqueeze(0)\n",
        "        # input = [1, batch size]\n",
        "        embedded = self.dropout(self.embedding(input))\n",
        "        # embedded = [1, batch size, embedding dim]\n",
        "        output, (hidden, cell) = self.rnn(embedded, (hidden, cell))\n",
        "        # output = [seq length, batch size, hidden dim * n directions]\n",
        "        # hidden = [n layers * n directions, batch size, hidden dim]\n",
        "        # cell = [n layers * n directions, batch size, hidden dim]\n",
        "        # seq length and n directions will always be 1 in this decoder, therefore:\n",
        "        # output = [1, batch size, hidden dim]\n",
        "        # hidden = [n layers, batch size, hidden dim]\n",
        "        # cell = [n layers, batch size, hidden dim]\n",
        "        prediction = self.fc_out(output.squeeze(0))\n",
        "        # prediction = [batch size, output dim]\n",
        "        return prediction, hidden, cell"
      ],
      "metadata": {
        "id": "86tVs2qdylL9"
      },
      "execution_count": 19,
      "outputs": []
    },
    {
      "cell_type": "markdown",
      "metadata": {
        "id": "08b91566-7a53-4b4b-98a8-aba5a2f7f9f0"
      },
      "source": [
        "## Seq2Seq"
      ]
    },
    {
      "cell_type": "code",
      "source": [
        "class Seq2Seq(nn.Module):\n",
        "    def __init__(self, encoder, decoder, device):\n",
        "        super().__init__()\n",
        "        self.encoder = encoder\n",
        "        self.decoder = decoder\n",
        "        self.device = device\n",
        "        assert (\n",
        "            encoder.hidden_dim == decoder.hidden_dim\n",
        "        ), \"Hidden dimensions of encoder and decoder must be equal!\"\n",
        "        assert (\n",
        "            encoder.n_layers == decoder.n_layers\n",
        "        ), \"Encoder and decoder must have equal number of layers!\"\n",
        "\n",
        "    def forward(self, src, trg, teacher_forcing_ratio):\n",
        "        # src = [src length, batch size]\n",
        "        # trg = [trg length, batch size]\n",
        "        # teacher_forcing_ratio is probability to use teacher forcing\n",
        "        # e.g. if teacher_forcing_ratio is 0.75 we use ground-truth inputs 75% of the time\n",
        "        batch_size = trg.shape[1]\n",
        "        trg_length = trg.shape[0]\n",
        "        trg_vocab_size = self.decoder.output_dim\n",
        "        # tensor to store decoder outputs\n",
        "        outputs = torch.zeros(trg_length, batch_size, trg_vocab_size).to(self.device)\n",
        "        # last hidden state of the encoder is used as the initial hidden state of the decoder\n",
        "        hidden, cell = self.encoder(src)\n",
        "        # hidden = [n layers * n directions, batch size, hidden dim]\n",
        "        # cell = [n layers * n directions, batch size, hidden dim]\n",
        "        # first input to the decoder is the <sos> tokens\n",
        "        input = trg[0, :]\n",
        "        # input = [batch size]\n",
        "        for t in range(1, trg_length):\n",
        "            # insert input token embedding, previous hidden and previous cell states\n",
        "            # receive output tensor (predictions) and new hidden and cell states\n",
        "            output, hidden, cell = self.decoder(input, hidden, cell)\n",
        "            # output = [batch size, output dim]\n",
        "            # hidden = [n layers, batch size, hidden dim]\n",
        "            # cell = [n layers, batch size, hidden dim]\n",
        "            # place predictions in a tensor holding predictions for each token\n",
        "            outputs[t] = output\n",
        "            # decide if we are going to use teacher forcing or not\n",
        "            teacher_force = random.random() < teacher_forcing_ratio\n",
        "            # get the highest predicted token from our predictions\n",
        "            top1 = output.argmax(1)\n",
        "            # if teacher forcing, use actual next token as next input\n",
        "            # if not, use predicted token\n",
        "            input = trg[t] if teacher_force else top1\n",
        "            # input = [batch size]\n",
        "        return outputs"
      ],
      "metadata": {
        "id": "sNQ8X0jQyqOM"
      },
      "execution_count": 20,
      "outputs": []
    },
    {
      "cell_type": "markdown",
      "source": [
        "## Train"
      ],
      "metadata": {
        "id": "63aekFltBNpI"
      }
    },
    {
      "cell_type": "code",
      "source": [
        "input_dim = len(zu_vocab)\n",
        "output_dim = len(en_vocab)\n",
        "encoder_embedding_dim = 256\n",
        "decoder_embedding_dim = 256\n",
        "hidden_dim = 512\n",
        "n_layers = 2\n",
        "encoder_dropout = 0.5\n",
        "decoder_dropout = 0.5\n",
        "device = torch.device(\"cuda\" if torch.cuda.is_available() else \"cpu\")\n",
        "\n",
        "encoder = Encoder(\n",
        "    input_dim,\n",
        "    encoder_embedding_dim,\n",
        "    hidden_dim,\n",
        "    n_layers,\n",
        "    encoder_dropout,\n",
        ")\n",
        "\n",
        "decoder = Decoder(\n",
        "    output_dim,\n",
        "    decoder_embedding_dim,\n",
        "    hidden_dim,\n",
        "    n_layers,\n",
        "    decoder_dropout,\n",
        ")\n",
        "\n",
        "model = Seq2Seq(encoder, decoder, device).to(device)"
      ],
      "metadata": {
        "id": "2SFFPzBFBJwg"
      },
      "execution_count": 21,
      "outputs": []
    },
    {
      "cell_type": "code",
      "source": [
        "def init_weights(m):\n",
        "    for name, param in m.named_parameters():\n",
        "        nn.init.uniform_(param.data, -0.08, 0.08)\n",
        "\n",
        "\n",
        "model.apply(init_weights)"
      ],
      "metadata": {
        "colab": {
          "base_uri": "https://localhost:8080/"
        },
        "id": "HqO1jr7XBYST",
        "outputId": "3564a773-353c-4129-9959-f71cd573ec81"
      },
      "execution_count": 22,
      "outputs": [
        {
          "output_type": "execute_result",
          "data": {
            "text/plain": [
              "Seq2Seq(\n",
              "  (encoder): Encoder(\n",
              "    (embedding): Embedding(24844, 256)\n",
              "    (rnn): LSTM(256, 512, num_layers=2, dropout=0.5)\n",
              "    (dropout): Dropout(p=0.5, inplace=False)\n",
              "  )\n",
              "  (decoder): Decoder(\n",
              "    (embedding): Embedding(11773, 256)\n",
              "    (rnn): LSTM(256, 512, num_layers=2, dropout=0.5)\n",
              "    (fc_out): Linear(in_features=512, out_features=11773, bias=True)\n",
              "    (dropout): Dropout(p=0.5, inplace=False)\n",
              "  )\n",
              ")"
            ]
          },
          "metadata": {},
          "execution_count": 22
        }
      ]
    },
    {
      "cell_type": "code",
      "source": [
        "def count_parameters(model):\n",
        "    return sum(p.numel() for p in model.parameters() if p.requires_grad)\n",
        "\n",
        "\n",
        "print(f\"The model has {count_parameters(model):,} trainable parameters\")"
      ],
      "metadata": {
        "colab": {
          "base_uri": "https://localhost:8080/"
        },
        "id": "gcTG06lKBc2Q",
        "outputId": "2263dc7b-91b7-4802-8617-07a4134bbbee"
      },
      "execution_count": 23,
      "outputs": [
        {
          "output_type": "stream",
          "name": "stdout",
          "text": [
            "The model has 22,769,917 trainable parameters\n"
          ]
        }
      ]
    },
    {
      "cell_type": "code",
      "source": [
        "# optimizer\n",
        "optimizer = optim.Adam(model.parameters())\n",
        "\n",
        "# loss function\n",
        "criterion = nn.CrossEntropyLoss(ignore_index=pad_index)"
      ],
      "metadata": {
        "id": "nMbnpCk4BdWN"
      },
      "execution_count": 24,
      "outputs": []
    },
    {
      "cell_type": "code",
      "source": [
        "def train_fn(\n",
        "    model, data_loader, optimizer, criterion, clip, teacher_forcing_ratio, device\n",
        "):\n",
        "    model.train()\n",
        "    epoch_loss = 0\n",
        "    for i, batch in enumerate(data_loader):\n",
        "        src = batch[\"zu_ids\"].to(device)\n",
        "        trg = batch[\"en_ids\"].to(device)\n",
        "        # src = [src length, batch size]\n",
        "        # trg = [trg length, batch size]\n",
        "        optimizer.zero_grad()\n",
        "        output = model(src, trg, teacher_forcing_ratio)\n",
        "        # output = [trg length, batch size, trg vocab size]\n",
        "        output_dim = output.shape[-1]\n",
        "        output = output[1:].view(-1, output_dim)\n",
        "        # output = [(trg length - 1) * batch size, trg vocab size]\n",
        "        trg = trg[1:].view(-1)\n",
        "        # trg = [(trg length - 1) * batch size]\n",
        "        loss = criterion(output, trg)\n",
        "        loss.backward()\n",
        "        torch.nn.utils.clip_grad_norm_(model.parameters(), clip)\n",
        "        optimizer.step()\n",
        "        epoch_loss += loss.item()\n",
        "    return epoch_loss / len(data_loader)"
      ],
      "metadata": {
        "id": "quQV2cUaBoI4"
      },
      "execution_count": 25,
      "outputs": []
    },
    {
      "cell_type": "code",
      "source": [
        "def evaluate_fn(model, data_loader, criterion, device):\n",
        "    model.eval()\n",
        "    epoch_loss = 0\n",
        "    with torch.no_grad():\n",
        "        for i, batch in enumerate(data_loader):\n",
        "            src = batch[\"zu_ids\"].to(device)\n",
        "            trg = batch[\"en_ids\"].to(device)\n",
        "            # src = [src length, batch size]\n",
        "            # trg = [trg length, batch size]\n",
        "            output = model(src, trg, 0)  # turn off teacher forcing\n",
        "            # output = [trg length, batch size, trg vocab size]\n",
        "            output_dim = output.shape[-1]\n",
        "            output = output[1:].view(-1, output_dim)\n",
        "            # output = [(trg length - 1) * batch size, trg vocab size]\n",
        "            trg = trg[1:].view(-1)\n",
        "            # trg = [(trg length - 1) * batch size]\n",
        "            loss = criterion(output, trg)\n",
        "            epoch_loss += loss.item()\n",
        "    return epoch_loss / len(data_loader)"
      ],
      "metadata": {
        "id": "WLzE6ZGTB2Lx"
      },
      "execution_count": 26,
      "outputs": []
    },
    {
      "cell_type": "code",
      "source": [
        "n_epochs = 10\n",
        "clip = 1.0\n",
        "teacher_forcing_ratio = 0.5\n",
        "\n",
        "best_valid_loss = float(\"inf\")\n",
        "\n",
        "# log variables for graph visualizations\n",
        "train_losses = []\n",
        "valid_losses = []\n",
        "train_ppls = []\n",
        "valid_ppls = []\n",
        "\n",
        "for epoch in tqdm.tqdm(range(n_epochs)):\n",
        "    train_loss = train_fn(\n",
        "        model,\n",
        "        train_data_loader,\n",
        "        optimizer,\n",
        "        criterion,\n",
        "        clip,\n",
        "        teacher_forcing_ratio,\n",
        "        device,\n",
        "    )\n",
        "    valid_loss = evaluate_fn(\n",
        "        model,\n",
        "        valid_data_loader,\n",
        "        criterion,\n",
        "        device,\n",
        "    )\n",
        "    # save the model only if validation loss improves\n",
        "    if valid_loss < best_valid_loss:\n",
        "        best_valid_loss = valid_loss\n",
        "        torch.save(model.state_dict(), \"tut1-model.pt\")\n",
        "\n",
        "    # perplexity calculation\n",
        "    train_ppl = np.exp(train_loss)\n",
        "    valid_ppl = np.exp(valid_loss)\n",
        "\n",
        "    # log and track\n",
        "    train_losses.append(train_loss)\n",
        "    valid_losses.append(valid_loss)\n",
        "    train_ppls.append(train_ppl)\n",
        "    valid_ppls.append(valid_ppl)\n",
        "\n",
        "    print(f\"\\tTrain Loss: {train_loss:7.3f} | Train PPL: {train_ppl:7.3f}\")\n",
        "    print(f\"\\tValid Loss: {valid_loss:7.3f} | Valid PPL: {valid_ppl:7.3f}\")"
      ],
      "metadata": {
        "colab": {
          "base_uri": "https://localhost:8080/"
        },
        "id": "UAOC9qQhB_Bv",
        "outputId": "97851724-1487-4732-dfaa-3aa4e2653a2c"
      },
      "execution_count": 27,
      "outputs": [
        {
          "output_type": "stream",
          "name": "stderr",
          "text": [
            " 10%|█         | 1/10 [02:46<24:54, 166.02s/it]"
          ]
        },
        {
          "output_type": "stream",
          "name": "stdout",
          "text": [
            "\tTrain Loss:   6.538 | Train PPL: 690.757\n",
            "\tValid Loss:   6.450 | Valid PPL: 632.553\n"
          ]
        },
        {
          "output_type": "stream",
          "name": "stderr",
          "text": [
            "\r 20%|██        | 2/10 [05:29<21:55, 164.41s/it]"
          ]
        },
        {
          "output_type": "stream",
          "name": "stdout",
          "text": [
            "\tTrain Loss:   6.240 | Train PPL: 513.038\n",
            "\tValid Loss:   6.441 | Valid PPL: 626.974\n"
          ]
        },
        {
          "output_type": "stream",
          "name": "stderr",
          "text": [
            "\r 30%|███       | 3/10 [08:09<18:58, 162.60s/it]"
          ]
        },
        {
          "output_type": "stream",
          "name": "stdout",
          "text": [
            "\tTrain Loss:   6.074 | Train PPL: 434.494\n",
            "\tValid Loss:   6.409 | Valid PPL: 607.463\n"
          ]
        },
        {
          "output_type": "stream",
          "name": "stderr",
          "text": [
            "\r 40%|████      | 4/10 [10:51<16:14, 162.37s/it]"
          ]
        },
        {
          "output_type": "stream",
          "name": "stdout",
          "text": [
            "\tTrain Loss:   5.936 | Train PPL: 378.359\n",
            "\tValid Loss:   6.335 | Valid PPL: 564.177\n"
          ]
        },
        {
          "output_type": "stream",
          "name": "stderr",
          "text": [
            "\r 50%|█████     | 5/10 [13:33<13:31, 162.27s/it]"
          ]
        },
        {
          "output_type": "stream",
          "name": "stdout",
          "text": [
            "\tTrain Loss:   5.783 | Train PPL: 324.819\n",
            "\tValid Loss:   6.207 | Valid PPL: 496.276\n"
          ]
        },
        {
          "output_type": "stream",
          "name": "stderr",
          "text": [
            "\r 60%|██████    | 6/10 [16:15<10:48, 162.11s/it]"
          ]
        },
        {
          "output_type": "stream",
          "name": "stdout",
          "text": [
            "\tTrain Loss:   5.639 | Train PPL: 281.172\n",
            "\tValid Loss:   6.167 | Valid PPL: 476.735\n"
          ]
        },
        {
          "output_type": "stream",
          "name": "stderr",
          "text": [
            "\r 70%|███████   | 7/10 [18:55<08:04, 161.52s/it]"
          ]
        },
        {
          "output_type": "stream",
          "name": "stdout",
          "text": [
            "\tTrain Loss:   5.506 | Train PPL: 246.089\n",
            "\tValid Loss:   6.126 | Valid PPL: 457.824\n"
          ]
        },
        {
          "output_type": "stream",
          "name": "stderr",
          "text": [
            "\r 80%|████████  | 8/10 [21:37<05:23, 161.67s/it]"
          ]
        },
        {
          "output_type": "stream",
          "name": "stdout",
          "text": [
            "\tTrain Loss:   5.392 | Train PPL: 219.553\n",
            "\tValid Loss:   6.098 | Valid PPL: 444.906\n"
          ]
        },
        {
          "output_type": "stream",
          "name": "stderr",
          "text": [
            "\r 90%|█████████ | 9/10 [24:18<02:41, 161.30s/it]"
          ]
        },
        {
          "output_type": "stream",
          "name": "stdout",
          "text": [
            "\tTrain Loss:   5.272 | Train PPL: 194.759\n",
            "\tValid Loss:   6.082 | Valid PPL: 438.039\n"
          ]
        },
        {
          "output_type": "stream",
          "name": "stderr",
          "text": [
            "100%|██████████| 10/10 [26:59<00:00, 161.96s/it]"
          ]
        },
        {
          "output_type": "stream",
          "name": "stdout",
          "text": [
            "\tTrain Loss:   5.163 | Train PPL: 174.644\n",
            "\tValid Loss:   6.086 | Valid PPL: 439.783\n"
          ]
        },
        {
          "output_type": "stream",
          "name": "stderr",
          "text": [
            "\n"
          ]
        }
      ]
    },
    {
      "cell_type": "markdown",
      "source": [
        "# Graphs and Visualizations"
      ],
      "metadata": {
        "id": "iZXym9S1GIia"
      }
    },
    {
      "cell_type": "code",
      "source": [
        "epochs = range(1, n_epochs + 1)\n",
        "\n",
        "# plot Loss\n",
        "plt.figure()\n",
        "plt.plot(epochs, train_losses, label='Train Loss')\n",
        "plt.plot(epochs, valid_losses, label='Valid Loss')\n",
        "plt.xlabel('Epoch')\n",
        "plt.ylabel('Loss')\n",
        "plt.title('Loss Curve')\n",
        "plt.legend()\n",
        "plt.grid(True)\n",
        "plt.show()\n",
        "\n",
        "# plot Perplexity\n",
        "plt.figure()\n",
        "plt.plot(epochs, train_ppls, label='Train PPL')\n",
        "plt.plot(epochs, valid_ppls, label='Valid PPL')\n",
        "plt.xlabel('Epoch')\n",
        "plt.ylabel('Perplexity')\n",
        "plt.title('Perplexity Curve')\n",
        "plt.legend()\n",
        "plt.grid(True)\n",
        "plt.show()"
      ],
      "metadata": {
        "id": "oNxW0DefGLN8",
        "colab": {
          "base_uri": "https://localhost:8080/",
          "height": 927
        },
        "outputId": "a3673e3b-2b54-4819-dbec-26172dcf54e0"
      },
      "execution_count": 28,
      "outputs": [
        {
          "output_type": "display_data",
          "data": {
            "text/plain": [
              "<Figure size 640x480 with 1 Axes>"
            ],
            "image/png": "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\n"
          },
          "metadata": {}
        },
        {
          "output_type": "display_data",
          "data": {
            "text/plain": [
              "<Figure size 640x480 with 1 Axes>"
            ],
            "image/png": "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\n"
          },
          "metadata": {}
        }
      ]
    },
    {
      "cell_type": "markdown",
      "source": [
        "# Model Evaluation"
      ],
      "metadata": {
        "id": "zPjmQOShCdr4"
      }
    },
    {
      "cell_type": "code",
      "source": [
        "model.load_state_dict(torch.load(\"tut1-model.pt\"))\n",
        "\n",
        "test_loss = evaluate_fn(model, test_data_loader, criterion, device)\n",
        "\n",
        "print(f\"| Test Loss: {test_loss:.3f} | Test PPL: {np.exp(test_loss):7.3f} |\")"
      ],
      "metadata": {
        "colab": {
          "base_uri": "https://localhost:8080/"
        },
        "id": "yaItsIOMCfVr",
        "outputId": "63aa5715-ad64-4a12-a438-0c3f2256e814"
      },
      "execution_count": 29,
      "outputs": [
        {
          "output_type": "stream",
          "name": "stdout",
          "text": [
            "| Test Loss: 6.063 | Test PPL: 429.483 |\n"
          ]
        }
      ]
    },
    {
      "cell_type": "code",
      "source": [
        "def translate_sentence(\n",
        "    sentence,\n",
        "    model,\n",
        "    en_nlp,\n",
        "    zu_nlp,\n",
        "    en_vocab,\n",
        "    zu_vocab,\n",
        "    lower,\n",
        "    sos_token,\n",
        "    eos_token,\n",
        "    device,\n",
        "    max_output_length=25,\n",
        "):\n",
        "    model.eval()\n",
        "    with torch.no_grad():\n",
        "        if isinstance(sentence, str):\n",
        "            tokens = [token.text for token in zu_nlp.tokenizer(sentence)]\n",
        "        else:\n",
        "            tokens = [token for token in sentence]\n",
        "        if lower:\n",
        "            tokens = [token.lower() for token in tokens]\n",
        "        tokens = [sos_token] + tokens + [eos_token]\n",
        "        ids = zu_vocab.lookup_indices(tokens)\n",
        "        tensor = torch.LongTensor(ids).unsqueeze(-1).to(device)\n",
        "        hidden, cell = model.encoder(tensor)\n",
        "        inputs = en_vocab.lookup_indices([sos_token])\n",
        "        for _ in range(max_output_length):\n",
        "            inputs_tensor = torch.LongTensor([inputs[-1]]).to(device)\n",
        "            output, hidden, cell = model.decoder(inputs_tensor, hidden, cell)\n",
        "            predicted_token = output.argmax(-1).item()\n",
        "            inputs.append(predicted_token)\n",
        "            if predicted_token == en_vocab[eos_token]:\n",
        "                break\n",
        "        tokens = en_vocab.lookup_tokens(inputs)\n",
        "    return tokens"
      ],
      "metadata": {
        "id": "5VYmPdqbCkq3"
      },
      "execution_count": 30,
      "outputs": []
    },
    {
      "cell_type": "code",
      "source": [
        "sentence = test_data[0][\"zu\"]\n",
        "expected_translation = test_data[0][\"en\"]\n",
        "\n",
        "sentence, expected_translation"
      ],
      "metadata": {
        "colab": {
          "base_uri": "https://localhost:8080/"
        },
        "id": "o9ItxyAQCzAQ",
        "outputId": "f83b4ccc-f062-4f68-b133-59cca73f0a3f"
      },
      "execution_count": 31,
      "outputs": [
        {
          "output_type": "execute_result",
          "data": {
            "text/plain": [
              "('Thinta , nuka , hlohla zonke izindawo , emaceleni nangaphezulu kwamabhini ukuze uzobona ukuthi sinjani isimo sezinhlamvu ebhinini lonke .',\n",
              " 'Feel , smell , or walk around the bin and probe the seed bin from various positions at the side bottom and top of the bins to be able to monitor the condition of the seed in the whole bin .')"
            ]
          },
          "metadata": {},
          "execution_count": 31
        }
      ]
    },
    {
      "cell_type": "code",
      "source": [
        "translations = [\n",
        "    translate_sentence(\n",
        "        example[\"zu\"],\n",
        "        model,\n",
        "        en_nlp,\n",
        "        zu_nlp,\n",
        "        en_vocab,\n",
        "        zu_vocab,\n",
        "        lower,\n",
        "        sos_token,\n",
        "        eos_token,\n",
        "        device,\n",
        "    )\n",
        "    for example in tqdm.tqdm(test_data)\n",
        "]"
      ],
      "metadata": {
        "colab": {
          "base_uri": "https://localhost:8080/"
        },
        "id": "vu8YCrfAC98O",
        "outputId": "e222ad95-41be-4412-f324-d459696cbbe9"
      },
      "execution_count": 32,
      "outputs": [
        {
          "output_type": "stream",
          "name": "stderr",
          "text": [
            "100%|██████████| 3000/3000 [00:30<00:00, 99.29it/s]\n"
          ]
        }
      ]
    },
    {
      "cell_type": "code",
      "source": [
        "bleu = evaluate.load(\"bleu\")"
      ],
      "metadata": {
        "colab": {
          "base_uri": "https://localhost:8080/",
          "height": 113,
          "referenced_widgets": [
            "5d835a77f5e646cebc6d0e465e44dfd9",
            "59037ce1e31b43bd8c0fef6cbec2d42d",
            "dfc6880155424f73be5a7b689022f854",
            "9348c998909b4a2790e0bdd833ca5edc",
            "beed732620254c79ae84ad54fad81343",
            "6f1c1d4457c54f63bf23d7bfb0603180",
            "302a919d6d36499bbdf5891c1c788c25",
            "705ce695a4d44205a55410258f361db9",
            "d024d166d03440689d8e493668e183aa",
            "d39ff3c939004a90ab9a50249b7ecbd7",
            "a47bb89c6aa24582998442a5852bae88",
            "0153711ec0174dd4a00f2b7d537360c1",
            "429666707c7d49f390f11725f0a24727",
            "7341fcf9fa96476689a266af5457c2bf",
            "828eb428185c45a9a545df279c887f65",
            "b2f0772fa6c542d1b7721283856c7908",
            "908dbe06ac6f4613a50a73ad04096c20",
            "9cbf0b4986194856a4d544bb1e47d3df",
            "f00e825c1a124bedb7dad41be470b54b",
            "57503c3459794eeca4d8117e558b26bc",
            "7d5c8a96e04a417e9149e899ab7fb370",
            "7965b0b024a04f40b72a227ed904796c",
            "dc55959a8be3460082abc07d1b5153bd",
            "a64e8a42179d4209b568426790604616",
            "255e3f5985474d18b3cb3ea009697ae1",
            "b2b36c812bc44d30b8edb9197db34e68",
            "316eaa13a70a4f4dbd761eced50527f9",
            "4aa2f5993aff45bebfdb84f0a752853c",
            "fc1d4f0e247f4acbaadc46000aa1e5b3",
            "8c41da721e0a4dd7b385a3b42c851503",
            "4ed1494697044534a0faa88d24fc2b96",
            "e684b25d252f4acca314b6003bac596f",
            "16d3a9a77732409fbe7abf5f2e30e2d0"
          ]
        },
        "id": "byM3OJ0aDH2B",
        "outputId": "deee9a02-08a0-43af-953d-2b218a2b8d2f"
      },
      "execution_count": 33,
      "outputs": [
        {
          "output_type": "display_data",
          "data": {
            "text/plain": [
              "Downloading builder script:   0%|          | 0.00/5.94k [00:00<?, ?B/s]"
            ],
            "application/vnd.jupyter.widget-view+json": {
              "version_major": 2,
              "version_minor": 0,
              "model_id": "5d835a77f5e646cebc6d0e465e44dfd9"
            }
          },
          "metadata": {}
        },
        {
          "output_type": "display_data",
          "data": {
            "text/plain": [
              "Downloading extra modules:   0%|          | 0.00/1.55k [00:00<?, ?B/s]"
            ],
            "application/vnd.jupyter.widget-view+json": {
              "version_major": 2,
              "version_minor": 0,
              "model_id": "0153711ec0174dd4a00f2b7d537360c1"
            }
          },
          "metadata": {}
        },
        {
          "output_type": "display_data",
          "data": {
            "text/plain": [
              "Downloading extra modules:   0%|          | 0.00/3.34k [00:00<?, ?B/s]"
            ],
            "application/vnd.jupyter.widget-view+json": {
              "version_major": 2,
              "version_minor": 0,
              "model_id": "dc55959a8be3460082abc07d1b5153bd"
            }
          },
          "metadata": {}
        }
      ]
    },
    {
      "cell_type": "code",
      "source": [
        "predictions = [\" \".join(translation[1:-1]) for translation in translations]\n",
        "\n",
        "references = [[example[\"en\"]] for example in test_data]"
      ],
      "metadata": {
        "id": "XtG8GkX1DKIr"
      },
      "execution_count": 34,
      "outputs": []
    },
    {
      "cell_type": "code",
      "source": [
        "predictions[0], references[0]"
      ],
      "metadata": {
        "colab": {
          "base_uri": "https://localhost:8080/"
        },
        "id": "UhzeJPKODLb-",
        "outputId": "6055b1ff-676a-435e-d169-eb11da9411c6"
      },
      "execution_count": 35,
      "outputs": [
        {
          "output_type": "execute_result",
          "data": {
            "text/plain": [
              "('<unk> , , , , , , , , , , , and the , and the the the the the the the .',\n",
              " ['Feel , smell , or walk around the bin and probe the seed bin from various positions at the side bottom and top of the bins to be able to monitor the condition of the seed in the whole bin .'])"
            ]
          },
          "metadata": {},
          "execution_count": 35
        }
      ]
    },
    {
      "cell_type": "code",
      "source": [
        "def get_tokenizer_fn(nlp, lower):\n",
        "    def tokenizer_fn(s):\n",
        "        tokens = [token.text for token in nlp.tokenizer(s)]\n",
        "        if lower:\n",
        "            tokens = [token.lower() for token in tokens]\n",
        "        return tokens\n",
        "\n",
        "    return tokenizer_fn"
      ],
      "metadata": {
        "id": "-MxFeMK3DOlQ"
      },
      "execution_count": 36,
      "outputs": []
    },
    {
      "cell_type": "code",
      "source": [
        "tokenizer_fn = get_tokenizer_fn(en_nlp, lower)"
      ],
      "metadata": {
        "id": "t1jSYgHlDQVr"
      },
      "execution_count": 37,
      "outputs": []
    },
    {
      "cell_type": "code",
      "source": [
        "tokenizer_fn(predictions[0]), tokenizer_fn(references[0][0])"
      ],
      "metadata": {
        "colab": {
          "base_uri": "https://localhost:8080/"
        },
        "id": "BgsosletDTKZ",
        "outputId": "df9a5ddc-fc8b-42af-d9bf-6830b15fe4e7"
      },
      "execution_count": 38,
      "outputs": [
        {
          "output_type": "execute_result",
          "data": {
            "text/plain": [
              "(['<',\n",
              "  'unk',\n",
              "  '>',\n",
              "  ',',\n",
              "  ',',\n",
              "  ',',\n",
              "  ',',\n",
              "  ',',\n",
              "  ',',\n",
              "  ',',\n",
              "  ',',\n",
              "  ',',\n",
              "  ',',\n",
              "  ',',\n",
              "  'and',\n",
              "  'the',\n",
              "  ',',\n",
              "  'and',\n",
              "  'the',\n",
              "  'the',\n",
              "  'the',\n",
              "  'the',\n",
              "  'the',\n",
              "  'the',\n",
              "  'the',\n",
              "  '.'],\n",
              " ['feel',\n",
              "  ',',\n",
              "  'smell',\n",
              "  ',',\n",
              "  'or',\n",
              "  'walk',\n",
              "  'around',\n",
              "  'the',\n",
              "  'bin',\n",
              "  'and',\n",
              "  'probe',\n",
              "  'the',\n",
              "  'seed',\n",
              "  'bin',\n",
              "  'from',\n",
              "  'various',\n",
              "  'positions',\n",
              "  'at',\n",
              "  'the',\n",
              "  'side',\n",
              "  'bottom',\n",
              "  'and',\n",
              "  'top',\n",
              "  'of',\n",
              "  'the',\n",
              "  'bins',\n",
              "  'to',\n",
              "  'be',\n",
              "  'able',\n",
              "  'to',\n",
              "  'monitor',\n",
              "  'the',\n",
              "  'condition',\n",
              "  'of',\n",
              "  'the',\n",
              "  'seed',\n",
              "  'in',\n",
              "  'the',\n",
              "  'whole',\n",
              "  'bin',\n",
              "  '.'])"
            ]
          },
          "metadata": {},
          "execution_count": 38
        }
      ]
    },
    {
      "cell_type": "code",
      "source": [
        "results = bleu.compute(\n",
        "    predictions=predictions, references=references, tokenizer=tokenizer_fn\n",
        ")\n",
        "\n",
        "results"
      ],
      "metadata": {
        "colab": {
          "base_uri": "https://localhost:8080/"
        },
        "id": "BFoHSOqkDU7X",
        "outputId": "37f2fde1-cb48-4e56-e6c1-5161cdebaafd"
      },
      "execution_count": 39,
      "outputs": [
        {
          "output_type": "execute_result",
          "data": {
            "text/plain": [
              "{'bleu': 0.008287872708229845,\n",
              " 'precisions': [0.22392449795797448,\n",
              "  0.02067422838808803,\n",
              "  0.002714493456131847,\n",
              "  0.0010451231938964805],\n",
              " 'brevity_penalty': 0.7741877073754699,\n",
              " 'length_ratio': 0.7962157972772611,\n",
              " 'translation_length': 47257,\n",
              " 'reference_length': 59352}"
            ]
          },
          "metadata": {},
          "execution_count": 39
        }
      ]
    }
  ]
}